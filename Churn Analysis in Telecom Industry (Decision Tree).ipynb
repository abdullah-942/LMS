{
 "cells": [
  {
   "cell_type": "code",
   "execution_count": 1,
   "metadata": {},
   "outputs": [
    {
     "name": "stderr",
     "output_type": "stream",
     "text": [
      "Warning message:\n",
      "\"package 'plyr' was built under R version 3.6.3\"Warning message:\n",
      "\"package 'randomForest' was built under R version 3.6.3\"randomForest 4.6-14\n",
      "Type rfNews() to see new features/changes/bug fixes.\n",
      "Warning message:\n",
      "\"package 'rpart' was built under R version 3.6.3\"Warning message:\n",
      "\"package 'rpart.plot' was built under R version 3.6.3\"Warning message:\n",
      "\"package 'caret' was built under R version 3.6.3\"Loading required package: lattice\n",
      "Loading required package: ggplot2\n",
      "Warning message:\n",
      "\"package 'ggplot2' was built under R version 3.6.3\"\n",
      "Attaching package: 'ggplot2'\n",
      "\n",
      "The following object is masked from 'package:randomForest':\n",
      "\n",
      "    margin\n",
      "\n",
      "Warning message:\n",
      "\"package 'gridExtra' was built under R version 3.6.3\"\n",
      "Attaching package: 'gridExtra'\n",
      "\n",
      "The following object is masked from 'package:randomForest':\n",
      "\n",
      "    combine\n",
      "\n"
     ]
    }
   ],
   "source": [
    "library(plyr)\n",
    "library(randomForest)\n",
    "library(rpart)\n",
    "library(rpart.plot)\n",
    "library(caret)\n",
    "library(ggplot2)\n",
    "library(gridExtra)"
   ]
  },
  {
   "cell_type": "code",
   "execution_count": 16,
   "metadata": {},
   "outputs": [],
   "source": [
    "data = read.csv(\"D:/Imarticus/LMS R/Decision Tree/Dataset/churn.csv\")"
   ]
  },
  {
   "cell_type": "code",
   "execution_count": 17,
   "metadata": {},
   "outputs": [
    {
     "data": {
      "text/html": [
       "<table>\n",
       "<thead><tr><th scope=col>customerID</th><th scope=col>gender</th><th scope=col>SeniorCitizen</th><th scope=col>Partner</th><th scope=col>Dependents</th><th scope=col>tenure</th><th scope=col>CallService</th><th scope=col>MultipleConnections</th><th scope=col>InternetConnection</th><th scope=col>OnlineSecurity</th><th scope=col>...</th><th scope=col>DeviceProtectionService</th><th scope=col>TechnicalHelp</th><th scope=col>OnlineTV</th><th scope=col>OnlineMovies</th><th scope=col>Agreement</th><th scope=col>BillingMethod</th><th scope=col>PaymentMethod</th><th scope=col>MonthlyServiceCharges</th><th scope=col>TotalAmount</th><th scope=col>Churn</th></tr></thead>\n",
       "<tbody>\n",
       "\t<tr><td>2907-ILJBN               </td><td>Female                   </td><td>No                       </td><td>Yes                      </td><td>Yes                      </td><td>11                       </td><td>Yes                      </td><td>No                       </td><td>No                       </td><td>No internet service      </td><td>...                      </td><td>No internet service      </td><td>No internet service      </td><td>No internet service      </td><td>No internet service      </td><td>One year                 </td><td>No                       </td><td>Mailed check             </td><td>20.60                    </td><td> 233.90                  </td><td>No                       </td></tr>\n",
       "\t<tr><td>3896-RCYYE               </td><td>Female                   </td><td>No                       </td><td>No                       </td><td>No                       </td><td>67                       </td><td>No                       </td><td>No phone service         </td><td>DSL                      </td><td>No                       </td><td>...                      </td><td>Yes                      </td><td>Yes                      </td><td>Yes                      </td><td>Yes                      </td><td>Month-to-month           </td><td>Yes                      </td><td>Credit card (automatic)  </td><td>53.40                    </td><td>3579.15                  </td><td>No                       </td></tr>\n",
       "\t<tr><td>9764-REAFF               </td><td>Female                   </td><td>No                       </td><td>Yes                      </td><td>No                       </td><td>59                       </td><td>Yes                      </td><td>No                       </td><td>No                       </td><td>No internet service      </td><td>...                      </td><td>No internet service      </td><td>No internet service      </td><td>No internet service      </td><td>No internet service      </td><td>Two year                 </td><td>No                       </td><td>Bank transfer (automatic)</td><td>18.40                    </td><td>1057.85                  </td><td>No                       </td></tr>\n",
       "\t<tr><td>6651-RLGGM               </td><td>Male                     </td><td>No                       </td><td>Yes                      </td><td>Yes                      </td><td>67                       </td><td>Yes                      </td><td>Yes                      </td><td>No                       </td><td>No internet service      </td><td>...                      </td><td>No internet service      </td><td>No internet service      </td><td>No internet service      </td><td>No internet service      </td><td>Two year                 </td><td>No                       </td><td>Mailed check             </td><td>26.30                    </td><td>1688.90                  </td><td>No                       </td></tr>\n",
       "\t<tr><td>5879-SESNB               </td><td>Female                   </td><td>No                       </td><td>No                       </td><td>No                       </td><td>11                       </td><td>Yes                      </td><td>Yes                      </td><td>Fiber optic              </td><td>No                       </td><td>...                      </td><td>No                       </td><td>No                       </td><td>No                       </td><td>No                       </td><td>Month-to-month           </td><td>No                       </td><td>Electronic check         </td><td>75.25                    </td><td> 888.65                  </td><td>No                       </td></tr>\n",
       "\t<tr><td>8670-MEFCP               </td><td>Female                   </td><td>No                       </td><td>Yes                      </td><td>Yes                      </td><td>36                       </td><td>Yes                      </td><td>Yes                      </td><td>DSL                      </td><td>Yes                      </td><td>...                      </td><td>Yes                      </td><td>Yes                      </td><td>Yes                      </td><td>Yes                      </td><td>Two year                 </td><td>Yes                      </td><td>Credit card (automatic)  </td><td>92.90                    </td><td>3379.25                  </td><td>No                       </td></tr>\n",
       "</tbody>\n",
       "</table>\n"
      ],
      "text/latex": [
       "\\begin{tabular}{r|lllllllllllllllllllll}\n",
       " customerID & gender & SeniorCitizen & Partner & Dependents & tenure & CallService & MultipleConnections & InternetConnection & OnlineSecurity & ... & DeviceProtectionService & TechnicalHelp & OnlineTV & OnlineMovies & Agreement & BillingMethod & PaymentMethod & MonthlyServiceCharges & TotalAmount & Churn\\\\\n",
       "\\hline\n",
       "\t 2907-ILJBN                & Female                    & No                        & Yes                       & Yes                       & 11                        & Yes                       & No                        & No                        & No internet service       & ...                       & No internet service       & No internet service       & No internet service       & No internet service       & One year                  & No                        & Mailed check              & 20.60                     &  233.90                   & No                       \\\\\n",
       "\t 3896-RCYYE                & Female                    & No                        & No                        & No                        & 67                        & No                        & No phone service          & DSL                       & No                        & ...                       & Yes                       & Yes                       & Yes                       & Yes                       & Month-to-month            & Yes                       & Credit card (automatic)   & 53.40                     & 3579.15                   & No                       \\\\\n",
       "\t 9764-REAFF                & Female                    & No                        & Yes                       & No                        & 59                        & Yes                       & No                        & No                        & No internet service       & ...                       & No internet service       & No internet service       & No internet service       & No internet service       & Two year                  & No                        & Bank transfer (automatic) & 18.40                     & 1057.85                   & No                       \\\\\n",
       "\t 6651-RLGGM                & Male                      & No                        & Yes                       & Yes                       & 67                        & Yes                       & Yes                       & No                        & No internet service       & ...                       & No internet service       & No internet service       & No internet service       & No internet service       & Two year                  & No                        & Mailed check              & 26.30                     & 1688.90                   & No                       \\\\\n",
       "\t 5879-SESNB                & Female                    & No                        & No                        & No                        & 11                        & Yes                       & Yes                       & Fiber optic               & No                        & ...                       & No                        & No                        & No                        & No                        & Month-to-month            & No                        & Electronic check          & 75.25                     &  888.65                   & No                       \\\\\n",
       "\t 8670-MEFCP                & Female                    & No                        & Yes                       & Yes                       & 36                        & Yes                       & Yes                       & DSL                       & Yes                       & ...                       & Yes                       & Yes                       & Yes                       & Yes                       & Two year                  & Yes                       & Credit card (automatic)   & 92.90                     & 3379.25                   & No                       \\\\\n",
       "\\end{tabular}\n"
      ],
      "text/markdown": [
       "\n",
       "| customerID | gender | SeniorCitizen | Partner | Dependents | tenure | CallService | MultipleConnections | InternetConnection | OnlineSecurity | ... | DeviceProtectionService | TechnicalHelp | OnlineTV | OnlineMovies | Agreement | BillingMethod | PaymentMethod | MonthlyServiceCharges | TotalAmount | Churn |\n",
       "|---|---|---|---|---|---|---|---|---|---|---|---|---|---|---|---|---|---|---|---|---|\n",
       "| 2907-ILJBN                | Female                    | No                        | Yes                       | Yes                       | 11                        | Yes                       | No                        | No                        | No internet service       | ...                       | No internet service       | No internet service       | No internet service       | No internet service       | One year                  | No                        | Mailed check              | 20.60                     |  233.90                   | No                        |\n",
       "| 3896-RCYYE                | Female                    | No                        | No                        | No                        | 67                        | No                        | No phone service          | DSL                       | No                        | ...                       | Yes                       | Yes                       | Yes                       | Yes                       | Month-to-month            | Yes                       | Credit card (automatic)   | 53.40                     | 3579.15                   | No                        |\n",
       "| 9764-REAFF                | Female                    | No                        | Yes                       | No                        | 59                        | Yes                       | No                        | No                        | No internet service       | ...                       | No internet service       | No internet service       | No internet service       | No internet service       | Two year                  | No                        | Bank transfer (automatic) | 18.40                     | 1057.85                   | No                        |\n",
       "| 6651-RLGGM                | Male                      | No                        | Yes                       | Yes                       | 67                        | Yes                       | Yes                       | No                        | No internet service       | ...                       | No internet service       | No internet service       | No internet service       | No internet service       | Two year                  | No                        | Mailed check              | 26.30                     | 1688.90                   | No                        |\n",
       "| 5879-SESNB                | Female                    | No                        | No                        | No                        | 11                        | Yes                       | Yes                       | Fiber optic               | No                        | ...                       | No                        | No                        | No                        | No                        | Month-to-month            | No                        | Electronic check          | 75.25                     |  888.65                   | No                        |\n",
       "| 8670-MEFCP                | Female                    | No                        | Yes                       | Yes                       | 36                        | Yes                       | Yes                       | DSL                       | Yes                       | ...                       | Yes                       | Yes                       | Yes                       | Yes                       | Two year                  | Yes                       | Credit card (automatic)   | 92.90                     | 3379.25                   | No                        |\n",
       "\n"
      ],
      "text/plain": [
       "  customerID gender SeniorCitizen Partner Dependents tenure CallService\n",
       "1 2907-ILJBN Female No            Yes     Yes        11     Yes        \n",
       "2 3896-RCYYE Female No            No      No         67     No         \n",
       "3 9764-REAFF Female No            Yes     No         59     Yes        \n",
       "4 6651-RLGGM Male   No            Yes     Yes        67     Yes        \n",
       "5 5879-SESNB Female No            No      No         11     Yes        \n",
       "6 8670-MEFCP Female No            Yes     Yes        36     Yes        \n",
       "  MultipleConnections InternetConnection OnlineSecurity      ...\n",
       "1 No                  No                 No internet service ...\n",
       "2 No phone service    DSL                No                  ...\n",
       "3 No                  No                 No internet service ...\n",
       "4 Yes                 No                 No internet service ...\n",
       "5 Yes                 Fiber optic        No                  ...\n",
       "6 Yes                 DSL                Yes                 ...\n",
       "  DeviceProtectionService TechnicalHelp       OnlineTV           \n",
       "1 No internet service     No internet service No internet service\n",
       "2 Yes                     Yes                 Yes                \n",
       "3 No internet service     No internet service No internet service\n",
       "4 No internet service     No internet service No internet service\n",
       "5 No                      No                  No                 \n",
       "6 Yes                     Yes                 Yes                \n",
       "  OnlineMovies        Agreement      BillingMethod PaymentMethod            \n",
       "1 No internet service One year       No            Mailed check             \n",
       "2 Yes                 Month-to-month Yes           Credit card (automatic)  \n",
       "3 No internet service Two year       No            Bank transfer (automatic)\n",
       "4 No internet service Two year       No            Mailed check             \n",
       "5 No                  Month-to-month No            Electronic check         \n",
       "6 Yes                 Two year       Yes           Credit card (automatic)  \n",
       "  MonthlyServiceCharges TotalAmount Churn\n",
       "1 20.60                  233.90     No   \n",
       "2 53.40                 3579.15     No   \n",
       "3 18.40                 1057.85     No   \n",
       "4 26.30                 1688.90     No   \n",
       "5 75.25                  888.65     No   \n",
       "6 92.90                 3379.25     No   "
      ]
     },
     "metadata": {},
     "output_type": "display_data"
    }
   ],
   "source": [
    "head(data)"
   ]
  },
  {
   "cell_type": "markdown",
   "metadata": {},
   "source": [
    "### Check for missing data"
   ]
  },
  {
   "cell_type": "code",
   "execution_count": 18,
   "metadata": {},
   "outputs": [
    {
     "data": {
      "text/html": [
       "<dl class=dl-horizontal>\n",
       "\t<dt>customerID</dt>\n",
       "\t\t<dd>0</dd>\n",
       "\t<dt>gender</dt>\n",
       "\t\t<dd>0</dd>\n",
       "\t<dt>SeniorCitizen</dt>\n",
       "\t\t<dd>0</dd>\n",
       "\t<dt>Partner</dt>\n",
       "\t\t<dd>0</dd>\n",
       "\t<dt>Dependents</dt>\n",
       "\t\t<dd>0</dd>\n",
       "\t<dt>tenure</dt>\n",
       "\t\t<dd>0</dd>\n",
       "\t<dt>CallService</dt>\n",
       "\t\t<dd>0</dd>\n",
       "\t<dt>MultipleConnections</dt>\n",
       "\t\t<dd>0</dd>\n",
       "\t<dt>InternetConnection</dt>\n",
       "\t\t<dd>0</dd>\n",
       "\t<dt>OnlineSecurity</dt>\n",
       "\t\t<dd>0</dd>\n",
       "\t<dt>OnlineBackup</dt>\n",
       "\t\t<dd>0</dd>\n",
       "\t<dt>DeviceProtectionService</dt>\n",
       "\t\t<dd>0</dd>\n",
       "\t<dt>TechnicalHelp</dt>\n",
       "\t\t<dd>0</dd>\n",
       "\t<dt>OnlineTV</dt>\n",
       "\t\t<dd>0</dd>\n",
       "\t<dt>OnlineMovies</dt>\n",
       "\t\t<dd>0</dd>\n",
       "\t<dt>Agreement</dt>\n",
       "\t\t<dd>0</dd>\n",
       "\t<dt>BillingMethod</dt>\n",
       "\t\t<dd>0</dd>\n",
       "\t<dt>PaymentMethod</dt>\n",
       "\t\t<dd>0</dd>\n",
       "\t<dt>MonthlyServiceCharges</dt>\n",
       "\t\t<dd>0</dd>\n",
       "\t<dt>TotalAmount</dt>\n",
       "\t\t<dd>0</dd>\n",
       "\t<dt>Churn</dt>\n",
       "\t\t<dd>0</dd>\n",
       "</dl>\n"
      ],
      "text/latex": [
       "\\begin{description*}\n",
       "\\item[customerID] 0\n",
       "\\item[gender] 0\n",
       "\\item[SeniorCitizen] 0\n",
       "\\item[Partner] 0\n",
       "\\item[Dependents] 0\n",
       "\\item[tenure] 0\n",
       "\\item[CallService] 0\n",
       "\\item[MultipleConnections] 0\n",
       "\\item[InternetConnection] 0\n",
       "\\item[OnlineSecurity] 0\n",
       "\\item[OnlineBackup] 0\n",
       "\\item[DeviceProtectionService] 0\n",
       "\\item[TechnicalHelp] 0\n",
       "\\item[OnlineTV] 0\n",
       "\\item[OnlineMovies] 0\n",
       "\\item[Agreement] 0\n",
       "\\item[BillingMethod] 0\n",
       "\\item[PaymentMethod] 0\n",
       "\\item[MonthlyServiceCharges] 0\n",
       "\\item[TotalAmount] 0\n",
       "\\item[Churn] 0\n",
       "\\end{description*}\n"
      ],
      "text/markdown": [
       "customerID\n",
       ":   0gender\n",
       ":   0SeniorCitizen\n",
       ":   0Partner\n",
       ":   0Dependents\n",
       ":   0tenure\n",
       ":   0CallService\n",
       ":   0MultipleConnections\n",
       ":   0InternetConnection\n",
       ":   0OnlineSecurity\n",
       ":   0OnlineBackup\n",
       ":   0DeviceProtectionService\n",
       ":   0TechnicalHelp\n",
       ":   0OnlineTV\n",
       ":   0OnlineMovies\n",
       ":   0Agreement\n",
       ":   0BillingMethod\n",
       ":   0PaymentMethod\n",
       ":   0MonthlyServiceCharges\n",
       ":   0TotalAmount\n",
       ":   0Churn\n",
       ":   0\n",
       "\n"
      ],
      "text/plain": [
       "             customerID                  gender           SeniorCitizen \n",
       "                      0                       0                       0 \n",
       "                Partner              Dependents                  tenure \n",
       "                      0                       0                       0 \n",
       "            CallService     MultipleConnections      InternetConnection \n",
       "                      0                       0                       0 \n",
       "         OnlineSecurity            OnlineBackup DeviceProtectionService \n",
       "                      0                       0                       0 \n",
       "          TechnicalHelp                OnlineTV            OnlineMovies \n",
       "                      0                       0                       0 \n",
       "              Agreement           BillingMethod           PaymentMethod \n",
       "                      0                       0                       0 \n",
       "  MonthlyServiceCharges             TotalAmount                   Churn \n",
       "                      0                       0                       0 "
      ]
     },
     "metadata": {},
     "output_type": "display_data"
    }
   ],
   "source": [
    "sapply(data, function(x) sum(is.na(x)))"
   ]
  },
  {
   "cell_type": "markdown",
   "metadata": {},
   "source": [
    "### No missing data in any column"
   ]
  },
  {
   "cell_type": "markdown",
   "metadata": {},
   "source": []
  },
  {
   "cell_type": "code",
   "execution_count": null,
   "metadata": {},
   "outputs": [],
   "source": []
  },
  {
   "cell_type": "code",
   "execution_count": 19,
   "metadata": {},
   "outputs": [
    {
     "data": {
      "text/html": [
       "<dl class=dl-horizontal>\n",
       "\t<dt>No</dt>\n",
       "\t\t<dd>10016</dd>\n",
       "\t<dt>Yes</dt>\n",
       "\t\t<dd>1566</dd>\n",
       "\t<dt>No.2239Yes9433</dt>\n",
       "\t\t<dd>1</dd>\n",
       "\t<dt>No.2246YesNoYes23</dt>\n",
       "\t\t<dd>1</dd>\n",
       "\t<dt>No.224775624</dt>\n",
       "\t\t<dd>1</dd>\n",
       "\t<dt>No.2255No5869</dt>\n",
       "\t\t<dd>1</dd>\n",
       "\t<dt>No.226683937</dt>\n",
       "\t\t<dd>1</dd>\n",
       "\t<dt>No.229928648</dt>\n",
       "\t\t<dd>1</dd>\n",
       "\t<dt>No.233923754</dt>\n",
       "\t\t<dd>1</dd>\n",
       "\t<dt>No.233YesYes3Yes55</dt>\n",
       "\t\t<dd>1</dd>\n",
       "\t<dt>No.234236486</dt>\n",
       "\t\t<dd>1</dd>\n",
       "\t<dt>No.2352Yes69No7</dt>\n",
       "\t\t<dd>1</dd>\n",
       "\t<dt>No.2365No948Yes</dt>\n",
       "\t\t<dd>1</dd>\n",
       "\t<dt>No.237349355</dt>\n",
       "\t\t<dd>1</dd>\n",
       "\t<dt>No.239538674</dt>\n",
       "\t\t<dd>1</dd>\n",
       "\t<dt>No.23NoNo7No7NoYes</dt>\n",
       "\t\t<dd>1</dd>\n",
       "\t<dt>No.2443Yes25No2</dt>\n",
       "\t\t<dd>1</dd>\n",
       "\t<dt>No.246443869</dt>\n",
       "\t\t<dd>1</dd>\n",
       "\t<dt>No.24843664</dt>\n",
       "\t\t<dd>1</dd>\n",
       "\t<dt>No.24No74No984</dt>\n",
       "\t\t<dd>1</dd>\n",
       "\t<dt>No.24No9774Yes5</dt>\n",
       "\t\t<dd>1</dd>\n",
       "\t<dt>No.24Yes293875</dt>\n",
       "\t\t<dd>1</dd>\n",
       "\t<dt>No.24Yes353Yes43</dt>\n",
       "\t\t<dd>1</dd>\n",
       "\t<dt>No.252964Yes3</dt>\n",
       "\t\t<dd>1</dd>\n",
       "\t<dt>No.2572YesNo659</dt>\n",
       "\t\t<dd>1</dd>\n",
       "\t<dt>No.2585Yes99No4</dt>\n",
       "\t\t<dd>1</dd>\n",
       "\t<dt>No.2597Yes27No5</dt>\n",
       "\t\t<dd>1</dd>\n",
       "\t<dt>No.259Yes537No2</dt>\n",
       "\t\t<dd>1</dd>\n",
       "\t<dt>No.25No9No9456</dt>\n",
       "\t\t<dd>1</dd>\n",
       "\t<dt>No.25Yes488884</dt>\n",
       "\t\t<dd>1</dd>\n",
       "\t<dt>No.262433544</dt>\n",
       "\t\t<dd>1</dd>\n",
       "\t<dt>No.262No4No36</dt>\n",
       "\t\t<dd>1</dd>\n",
       "\t<dt>No.26593No452</dt>\n",
       "\t\t<dd>1</dd>\n",
       "\t<dt>No.266Yes56Yes74</dt>\n",
       "\t\t<dd>1</dd>\n",
       "\t<dt>No.267948997</dt>\n",
       "\t\t<dd>1</dd>\n",
       "\t<dt>No.26Yes33YesYes37</dt>\n",
       "\t\t<dd>1</dd>\n",
       "\t<dt>No.26YesYes6Yes787</dt>\n",
       "\t\t<dd>1</dd>\n",
       "\t<dt>No.273585995</dt>\n",
       "\t\t<dd>1</dd>\n",
       "\t<dt>No.276No59793</dt>\n",
       "\t\t<dd>1</dd>\n",
       "\t<dt>No.27774YesYes47</dt>\n",
       "\t\t<dd>1</dd>\n",
       "\t<dt>No.278969No76</dt>\n",
       "\t\t<dd>1</dd>\n",
       "\t<dt>No.278No98355</dt>\n",
       "\t\t<dd>1</dd>\n",
       "\t<dt>No.27988Yes425</dt>\n",
       "\t\t<dd>1</dd>\n",
       "\t<dt>No.27No762394</dt>\n",
       "\t\t<dd>1</dd>\n",
       "\t<dt>No.27Yes325728</dt>\n",
       "\t\t<dd>1</dd>\n",
       "\t<dt>No.27YesNo26762</dt>\n",
       "\t\t<dd>1</dd>\n",
       "\t<dt>No.2838YesYes9Yes3</dt>\n",
       "\t\t<dd>1</dd>\n",
       "\t<dt>No.28393No874</dt>\n",
       "\t\t<dd>1</dd>\n",
       "\t<dt>No.284235Yes64</dt>\n",
       "\t\t<dd>1</dd>\n",
       "\t<dt>No.28452982</dt>\n",
       "\t\t<dd>1</dd>\n",
       "\t<dt>No.28534No468</dt>\n",
       "\t\t<dd>1</dd>\n",
       "\t<dt>No.286827425</dt>\n",
       "\t\t<dd>1</dd>\n",
       "\t<dt>No.287868874</dt>\n",
       "\t\t<dd>1</dd>\n",
       "\t<dt>No.289625767</dt>\n",
       "\t\t<dd>1</dd>\n",
       "\t<dt>No.289Yes38849</dt>\n",
       "\t\t<dd>1</dd>\n",
       "\t<dt>No.28No2Yes5Yes98</dt>\n",
       "\t\t<dd>1</dd>\n",
       "\t<dt>No.28Yes64No72Yes</dt>\n",
       "\t\t<dd>1</dd>\n",
       "\t<dt>No.28Yes993467</dt>\n",
       "\t\t<dd>1</dd>\n",
       "\t<dt>No.28YesYesYes9Yes73</dt>\n",
       "\t\t<dd>1</dd>\n",
       "\t<dt>No.292679736</dt>\n",
       "\t\t<dd>1</dd>\n",
       "\t<dt>No.293Yes93Yes39</dt>\n",
       "\t\t<dd>1</dd>\n",
       "\t<dt>No.294492YesYes6</dt>\n",
       "\t\t<dd>1</dd>\n",
       "\t<dt>No.2946No722Yes</dt>\n",
       "\t\t<dd>1</dd>\n",
       "\t<dt>No.29757NoNo83</dt>\n",
       "\t\t<dd>1</dd>\n",
       "\t<dt>No.29843659</dt>\n",
       "\t\t<dd>1</dd>\n",
       "\t<dt>No.29NoNoYes52Yes5</dt>\n",
       "\t\t<dd>1</dd>\n",
       "\t<dt>No.29Yes733Yes92</dt>\n",
       "\t\t<dd>1</dd>\n",
       "\t<dt>No.2No4244Yes83</dt>\n",
       "\t\t<dd>1</dd>\n",
       "\t<dt>No.2No5623435</dt>\n",
       "\t\t<dd>1</dd>\n",
       "\t<dt>No.2No6866998</dt>\n",
       "\t\t<dd>1</dd>\n",
       "\t<dt>No.2No7995YesNo6</dt>\n",
       "\t\t<dd>1</dd>\n",
       "\t<dt>No.2No876776Yes</dt>\n",
       "\t\t<dd>1</dd>\n",
       "\t<dt>No.2No9978Yes55</dt>\n",
       "\t\t<dd>1</dd>\n",
       "\t<dt>No.2No99No7392</dt>\n",
       "\t\t<dd>1</dd>\n",
       "\t<dt>No.2NoNo2895No5</dt>\n",
       "\t\t<dd>1</dd>\n",
       "\t<dt>No.2NoYes693825</dt>\n",
       "\t\t<dd>1</dd>\n",
       "\t<dt>No.2NoYesNo62No74</dt>\n",
       "\t\t<dd>1</dd>\n",
       "\t<dt>No.2Yes294No688</dt>\n",
       "\t\t<dd>1</dd>\n",
       "\t<dt>No.2Yes2996645</dt>\n",
       "\t\t<dd>1</dd>\n",
       "\t<dt>No.2Yes33YesNo258</dt>\n",
       "\t\t<dd>1</dd>\n",
       "\t<dt>No.2Yes4276642</dt>\n",
       "\t\t<dd>1</dd>\n",
       "\t<dt>No.2Yes432No7Yes</dt>\n",
       "\t\t<dd>1</dd>\n",
       "\t<dt>No.2Yes5No92No62</dt>\n",
       "\t\t<dd>1</dd>\n",
       "\t<dt>No.2Yes6252554</dt>\n",
       "\t\t<dd>1</dd>\n",
       "\t<dt>No.2Yes7No8NoYes26</dt>\n",
       "\t\t<dd>1</dd>\n",
       "\t<dt>No.2Yes825No42Yes</dt>\n",
       "\t\t<dd>1</dd>\n",
       "\t<dt>No.2YesNo6327No9</dt>\n",
       "\t\t<dd>1</dd>\n",
       "\t<dt>No.2YesYes44637</dt>\n",
       "\t\t<dd>1</dd>\n",
       "\t<dt>No.2YesYes7No3739</dt>\n",
       "\t\t<dd>1</dd>\n",
       "\t<dt>No.2YesYes7Yes528Yes</dt>\n",
       "\t\t<dd>1</dd>\n",
       "\t<dt>No.322724345</dt>\n",
       "\t\t<dd>1</dd>\n",
       "\t<dt>No.3234Yes8986</dt>\n",
       "\t\t<dd>1</dd>\n",
       "\t<dt>No.323949499</dt>\n",
       "\t\t<dd>1</dd>\n",
       "\t<dt>No.325244392</dt>\n",
       "\t\t<dd>1</dd>\n",
       "\t<dt>No.325272369</dt>\n",
       "\t\t<dd>1</dd>\n",
       "\t<dt>No.32535No24</dt>\n",
       "\t\t<dd>1</dd>\n",
       "\t<dt>No.325889745</dt>\n",
       "\t\t<dd>1</dd>\n",
       "\t<dt>No.3267No86No7</dt>\n",
       "\t\t<dd>1</dd>\n",
       "\t<dt>No.32725No977</dt>\n",
       "\t\t<dd>1</dd>\n",
       "\t<dt>(Other)</dt>\n",
       "\t\t<dd>656</dd>\n",
       "</dl>\n"
      ],
      "text/latex": [
       "\\begin{description*}\n",
       "\\item[No] 10016\n",
       "\\item[Yes] 1566\n",
       "\\item[No.2239Yes9433] 1\n",
       "\\item[No.2246YesNoYes23] 1\n",
       "\\item[No.224775624] 1\n",
       "\\item[No.2255No5869] 1\n",
       "\\item[No.226683937] 1\n",
       "\\item[No.229928648] 1\n",
       "\\item[No.233923754] 1\n",
       "\\item[No.233YesYes3Yes55] 1\n",
       "\\item[No.234236486] 1\n",
       "\\item[No.2352Yes69No7] 1\n",
       "\\item[No.2365No948Yes] 1\n",
       "\\item[No.237349355] 1\n",
       "\\item[No.239538674] 1\n",
       "\\item[No.23NoNo7No7NoYes] 1\n",
       "\\item[No.2443Yes25No2] 1\n",
       "\\item[No.246443869] 1\n",
       "\\item[No.24843664] 1\n",
       "\\item[No.24No74No984] 1\n",
       "\\item[No.24No9774Yes5] 1\n",
       "\\item[No.24Yes293875] 1\n",
       "\\item[No.24Yes353Yes43] 1\n",
       "\\item[No.252964Yes3] 1\n",
       "\\item[No.2572YesNo659] 1\n",
       "\\item[No.2585Yes99No4] 1\n",
       "\\item[No.2597Yes27No5] 1\n",
       "\\item[No.259Yes537No2] 1\n",
       "\\item[No.25No9No9456] 1\n",
       "\\item[No.25Yes488884] 1\n",
       "\\item[No.262433544] 1\n",
       "\\item[No.262No4No36] 1\n",
       "\\item[No.26593No452] 1\n",
       "\\item[No.266Yes56Yes74] 1\n",
       "\\item[No.267948997] 1\n",
       "\\item[No.26Yes33YesYes37] 1\n",
       "\\item[No.26YesYes6Yes787] 1\n",
       "\\item[No.273585995] 1\n",
       "\\item[No.276No59793] 1\n",
       "\\item[No.27774YesYes47] 1\n",
       "\\item[No.278969No76] 1\n",
       "\\item[No.278No98355] 1\n",
       "\\item[No.27988Yes425] 1\n",
       "\\item[No.27No762394] 1\n",
       "\\item[No.27Yes325728] 1\n",
       "\\item[No.27YesNo26762] 1\n",
       "\\item[No.2838YesYes9Yes3] 1\n",
       "\\item[No.28393No874] 1\n",
       "\\item[No.284235Yes64] 1\n",
       "\\item[No.28452982] 1\n",
       "\\item[No.28534No468] 1\n",
       "\\item[No.286827425] 1\n",
       "\\item[No.287868874] 1\n",
       "\\item[No.289625767] 1\n",
       "\\item[No.289Yes38849] 1\n",
       "\\item[No.28No2Yes5Yes98] 1\n",
       "\\item[No.28Yes64No72Yes] 1\n",
       "\\item[No.28Yes993467] 1\n",
       "\\item[No.28YesYesYes9Yes73] 1\n",
       "\\item[No.292679736] 1\n",
       "\\item[No.293Yes93Yes39] 1\n",
       "\\item[No.294492YesYes6] 1\n",
       "\\item[No.2946No722Yes] 1\n",
       "\\item[No.29757NoNo83] 1\n",
       "\\item[No.29843659] 1\n",
       "\\item[No.29NoNoYes52Yes5] 1\n",
       "\\item[No.29Yes733Yes92] 1\n",
       "\\item[No.2No4244Yes83] 1\n",
       "\\item[No.2No5623435] 1\n",
       "\\item[No.2No6866998] 1\n",
       "\\item[No.2No7995YesNo6] 1\n",
       "\\item[No.2No876776Yes] 1\n",
       "\\item[No.2No9978Yes55] 1\n",
       "\\item[No.2No99No7392] 1\n",
       "\\item[No.2NoNo2895No5] 1\n",
       "\\item[No.2NoYes693825] 1\n",
       "\\item[No.2NoYesNo62No74] 1\n",
       "\\item[No.2Yes294No688] 1\n",
       "\\item[No.2Yes2996645] 1\n",
       "\\item[No.2Yes33YesNo258] 1\n",
       "\\item[No.2Yes4276642] 1\n",
       "\\item[No.2Yes432No7Yes] 1\n",
       "\\item[No.2Yes5No92No62] 1\n",
       "\\item[No.2Yes6252554] 1\n",
       "\\item[No.2Yes7No8NoYes26] 1\n",
       "\\item[No.2Yes825No42Yes] 1\n",
       "\\item[No.2YesNo6327No9] 1\n",
       "\\item[No.2YesYes44637] 1\n",
       "\\item[No.2YesYes7No3739] 1\n",
       "\\item[No.2YesYes7Yes528Yes] 1\n",
       "\\item[No.322724345] 1\n",
       "\\item[No.3234Yes8986] 1\n",
       "\\item[No.323949499] 1\n",
       "\\item[No.325244392] 1\n",
       "\\item[No.325272369] 1\n",
       "\\item[No.32535No24] 1\n",
       "\\item[No.325889745] 1\n",
       "\\item[No.3267No86No7] 1\n",
       "\\item[No.32725No977] 1\n",
       "\\item[(Other)] 656\n",
       "\\end{description*}\n"
      ],
      "text/markdown": [
       "No\n",
       ":   10016Yes\n",
       ":   1566No.2239Yes9433\n",
       ":   1No.2246YesNoYes23\n",
       ":   1No.224775624\n",
       ":   1No.2255No5869\n",
       ":   1No.226683937\n",
       ":   1No.229928648\n",
       ":   1No.233923754\n",
       ":   1No.233YesYes3Yes55\n",
       ":   1No.234236486\n",
       ":   1No.2352Yes69No7\n",
       ":   1No.2365No948Yes\n",
       ":   1No.237349355\n",
       ":   1No.239538674\n",
       ":   1No.23NoNo7No7NoYes\n",
       ":   1No.2443Yes25No2\n",
       ":   1No.246443869\n",
       ":   1No.24843664\n",
       ":   1No.24No74No984\n",
       ":   1No.24No9774Yes5\n",
       ":   1No.24Yes293875\n",
       ":   1No.24Yes353Yes43\n",
       ":   1No.252964Yes3\n",
       ":   1No.2572YesNo659\n",
       ":   1No.2585Yes99No4\n",
       ":   1No.2597Yes27No5\n",
       ":   1No.259Yes537No2\n",
       ":   1No.25No9No9456\n",
       ":   1No.25Yes488884\n",
       ":   1No.262433544\n",
       ":   1No.262No4No36\n",
       ":   1No.26593No452\n",
       ":   1No.266Yes56Yes74\n",
       ":   1No.267948997\n",
       ":   1No.26Yes33YesYes37\n",
       ":   1No.26YesYes6Yes787\n",
       ":   1No.273585995\n",
       ":   1No.276No59793\n",
       ":   1No.27774YesYes47\n",
       ":   1No.278969No76\n",
       ":   1No.278No98355\n",
       ":   1No.27988Yes425\n",
       ":   1No.27No762394\n",
       ":   1No.27Yes325728\n",
       ":   1No.27YesNo26762\n",
       ":   1No.2838YesYes9Yes3\n",
       ":   1No.28393No874\n",
       ":   1No.284235Yes64\n",
       ":   1No.28452982\n",
       ":   1No.28534No468\n",
       ":   1No.286827425\n",
       ":   1No.287868874\n",
       ":   1No.289625767\n",
       ":   1No.289Yes38849\n",
       ":   1No.28No2Yes5Yes98\n",
       ":   1No.28Yes64No72Yes\n",
       ":   1No.28Yes993467\n",
       ":   1No.28YesYesYes9Yes73\n",
       ":   1No.292679736\n",
       ":   1No.293Yes93Yes39\n",
       ":   1No.294492YesYes6\n",
       ":   1No.2946No722Yes\n",
       ":   1No.29757NoNo83\n",
       ":   1No.29843659\n",
       ":   1No.29NoNoYes52Yes5\n",
       ":   1No.29Yes733Yes92\n",
       ":   1No.2No4244Yes83\n",
       ":   1No.2No5623435\n",
       ":   1No.2No6866998\n",
       ":   1No.2No7995YesNo6\n",
       ":   1No.2No876776Yes\n",
       ":   1No.2No9978Yes55\n",
       ":   1No.2No99No7392\n",
       ":   1No.2NoNo2895No5\n",
       ":   1No.2NoYes693825\n",
       ":   1No.2NoYesNo62No74\n",
       ":   1No.2Yes294No688\n",
       ":   1No.2Yes2996645\n",
       ":   1No.2Yes33YesNo258\n",
       ":   1No.2Yes4276642\n",
       ":   1No.2Yes432No7Yes\n",
       ":   1No.2Yes5No92No62\n",
       ":   1No.2Yes6252554\n",
       ":   1No.2Yes7No8NoYes26\n",
       ":   1No.2Yes825No42Yes\n",
       ":   1No.2YesNo6327No9\n",
       ":   1No.2YesYes44637\n",
       ":   1No.2YesYes7No3739\n",
       ":   1No.2YesYes7Yes528Yes\n",
       ":   1No.322724345\n",
       ":   1No.3234Yes8986\n",
       ":   1No.323949499\n",
       ":   1No.325244392\n",
       ":   1No.325272369\n",
       ":   1No.32535No24\n",
       ":   1No.325889745\n",
       ":   1No.3267No86No7\n",
       ":   1No.32725No977\n",
       ":   1(Other)\n",
       ":   656\n",
       "\n"
      ],
      "text/plain": [
       "                  No                  Yes       No.2239Yes9433 \n",
       "               10016                 1566                    1 \n",
       "   No.2246YesNoYes23         No.224775624        No.2255No5869 \n",
       "                   1                    1                    1 \n",
       "        No.226683937         No.229928648         No.233923754 \n",
       "                   1                    1                    1 \n",
       "  No.233YesYes3Yes55         No.234236486      No.2352Yes69No7 \n",
       "                   1                    1                    1 \n",
       "     No.2365No948Yes         No.237349355         No.239538674 \n",
       "                   1                    1                    1 \n",
       "  No.23NoNo7No7NoYes      No.2443Yes25No2         No.246443869 \n",
       "                   1                    1                    1 \n",
       "         No.24843664       No.24No74No984      No.24No9774Yes5 \n",
       "                   1                    1                    1 \n",
       "      No.24Yes293875     No.24Yes353Yes43        No.252964Yes3 \n",
       "                   1                    1                    1 \n",
       "     No.2572YesNo659      No.2585Yes99No4      No.2597Yes27No5 \n",
       "                   1                    1                    1 \n",
       "     No.259Yes537No2       No.25No9No9456       No.25Yes488884 \n",
       "                   1                    1                    1 \n",
       "        No.262433544        No.262No4No36        No.26593No452 \n",
       "                   1                    1                    1 \n",
       "    No.266Yes56Yes74         No.267948997   No.26Yes33YesYes37 \n",
       "                   1                    1                    1 \n",
       "  No.26YesYes6Yes787         No.273585995        No.276No59793 \n",
       "                   1                    1                    1 \n",
       "    No.27774YesYes47        No.278969No76        No.278No98355 \n",
       "                   1                    1                    1 \n",
       "      No.27988Yes425        No.27No762394       No.27Yes325728 \n",
       "                   1                    1                    1 \n",
       "     No.27YesNo26762   No.2838YesYes9Yes3        No.28393No874 \n",
       "                   1                    1                    1 \n",
       "      No.284235Yes64          No.28452982        No.28534No468 \n",
       "                   1                    1                    1 \n",
       "        No.286827425         No.287868874         No.289625767 \n",
       "                   1                    1                    1 \n",
       "      No.289Yes38849    No.28No2Yes5Yes98    No.28Yes64No72Yes \n",
       "                   1                    1                    1 \n",
       "      No.28Yes993467 No.28YesYesYes9Yes73         No.292679736 \n",
       "                   1                    1                    1 \n",
       "    No.293Yes93Yes39     No.294492YesYes6      No.2946No722Yes \n",
       "                   1                    1                    1 \n",
       "      No.29757NoNo83          No.29843659   No.29NoNoYes52Yes5 \n",
       "                   1                    1                    1 \n",
       "    No.29Yes733Yes92      No.2No4244Yes83        No.2No5623435 \n",
       "                   1                    1                    1 \n",
       "       No.2No6866998     No.2No7995YesNo6      No.2No876776Yes \n",
       "                   1                    1                    1 \n",
       "     No.2No9978Yes55       No.2No99No7392      No.2NoNo2895No5 \n",
       "                   1                    1                    1 \n",
       "     No.2NoYes693825    No.2NoYesNo62No74      No.2Yes294No688 \n",
       "                   1                    1                    1 \n",
       "      No.2Yes2996645    No.2Yes33YesNo258       No.2Yes4276642 \n",
       "                   1                    1                    1 \n",
       "    No.2Yes432No7Yes     No.2Yes5No92No62       No.2Yes6252554 \n",
       "                   1                    1                    1 \n",
       "  No.2Yes7No8NoYes26    No.2Yes825No42Yes     No.2YesNo6327No9 \n",
       "                   1                    1                    1 \n",
       "     No.2YesYes44637    No.2YesYes7No3739 No.2YesYes7Yes528Yes \n",
       "                   1                    1                    1 \n",
       "        No.322724345       No.3234Yes8986         No.323949499 \n",
       "                   1                    1                    1 \n",
       "        No.325244392         No.325272369         No.32535No24 \n",
       "                   1                    1                    1 \n",
       "        No.325889745       No.3267No86No7        No.32725No977 \n",
       "                   1                    1                    1 \n",
       "             (Other) \n",
       "                 656 "
      ]
     },
     "metadata": {},
     "output_type": "display_data"
    }
   ],
   "source": [
    "summary(data$SeniorCitizen)"
   ]
  },
  {
   "cell_type": "code",
   "execution_count": 20,
   "metadata": {},
   "outputs": [
    {
     "data": {
      "text/html": [
       "<dl class=dl-horizontal>\n",
       "\t<dt>No</dt>\n",
       "\t\t<dd>5952</dd>\n",
       "\t<dt>No phone service</dt>\n",
       "\t\t<dd>1425</dd>\n",
       "\t<dt>Yes</dt>\n",
       "\t\t<dd>4958</dd>\n",
       "</dl>\n"
      ],
      "text/latex": [
       "\\begin{description*}\n",
       "\\item[No] 5952\n",
       "\\item[No phone service] 1425\n",
       "\\item[Yes] 4958\n",
       "\\end{description*}\n"
      ],
      "text/markdown": [
       "No\n",
       ":   5952No phone service\n",
       ":   1425Yes\n",
       ":   4958\n",
       "\n"
      ],
      "text/plain": [
       "              No No phone service              Yes \n",
       "            5952             1425             4958 "
      ]
     },
     "metadata": {},
     "output_type": "display_data"
    }
   ],
   "source": [
    "summary(data$MultipleConnections)"
   ]
  },
  {
   "cell_type": "markdown",
   "metadata": {},
   "source": [
    "### The MultipleConnections variable is dependent on the CallService variable, where a ‘no’ for the CallService automatically means a ‘no’ for MultipleConnections. We can again further ease our graphics and modeling by recoding the ‘No call service’ response to ‘No’ for the MultipleLines variable."
   ]
  },
  {
   "cell_type": "code",
   "execution_count": 21,
   "metadata": {},
   "outputs": [],
   "source": [
    "data$MultipleConnections = as.factor(mapvalues(data$MultipleConnections, from=c(\"No phone service\"), to=c(\"No\")))"
   ]
  },
  {
   "cell_type": "markdown",
   "metadata": {},
   "source": [
    "### Similiarly, every online variables are all dependent on the InternetConnections variable. We will recode the responses from ‘No internet service’ to ‘No’ for these variables."
   ]
  },
  {
   "cell_type": "code",
   "execution_count": 22,
   "metadata": {},
   "outputs": [],
   "source": [
    "for(i in 10:15){\n",
    "  data[,i] = as.factor(mapvalues(data[,i],from = c(\"No internet service\"), to= c(\"No\")))\n",
    "}"
   ]
  },
  {
   "cell_type": "markdown",
   "metadata": {},
   "source": [
    "### Dropping the customer ID variable as it is not needed in the data modelling. Also senior citizen is generating errors in random forest so dropping that also."
   ]
  },
  {
   "cell_type": "code",
   "execution_count": 23,
   "metadata": {},
   "outputs": [],
   "source": [
    "data$customerID = NULL\n",
    "data$SeniorCitizen = NULL"
   ]
  },
  {
   "cell_type": "markdown",
   "metadata": {},
   "source": [
    "## Create a train and test data subset."
   ]
  },
  {
   "cell_type": "code",
   "execution_count": 24,
   "metadata": {},
   "outputs": [],
   "source": [
    "set.seed(123)\n",
    "split_train_test = createDataPartition(data$Churn,p=0.7,list=FALSE)\n",
    "train<- data[split_train_test,]\n",
    "test<- data[-split_train_test,]"
   ]
  },
  {
   "cell_type": "markdown",
   "metadata": {},
   "source": [
    "## Data Visualization"
   ]
  },
  {
   "cell_type": "code",
   "execution_count": 25,
   "metadata": {},
   "outputs": [],
   "source": [
    "#Gender \n",
    "plot_gender = ggplot(data, aes(x = gender)) +\n",
    "  geom_bar() +\n",
    "  geom_text(aes(y = ..count.. -200, \n",
    "                label = paste0(round(prop.table(..count..),4) * 100, '%')), \n",
    "            stat = 'count', \n",
    "            position = position_dodge(.1), \n",
    "            size = 3)"
   ]
  },
  {
   "cell_type": "code",
   "execution_count": null,
   "metadata": {},
   "outputs": [],
   "source": []
  },
  {
   "cell_type": "code",
   "execution_count": 26,
   "metadata": {},
   "outputs": [],
   "source": [
    "#Partner\n",
    "plot_partner = ggplot(data, aes(x = Partner)) +\n",
    "  geom_bar() +\n",
    "  geom_text(aes(y = ..count.. -200, \n",
    "                label = paste0(round(prop.table(..count..),4) * 100, '%')), \n",
    "            stat = 'count', \n",
    "            position = position_dodge(.1), \n",
    "            size = 3)"
   ]
  },
  {
   "cell_type": "code",
   "execution_count": 27,
   "metadata": {},
   "outputs": [],
   "source": [
    "#Dependents\n",
    "plot_dependents = ggplot(data, aes(x = Dependents)) +\n",
    "  geom_bar() +\n",
    "  geom_text(aes(y = ..count.. -200, \n",
    "                label = paste0(round(prop.table(..count..),4) * 100, '%')), \n",
    "            stat = 'count', \n",
    "            position = position_dodge(.1), \n",
    "            size = 3)"
   ]
  },
  {
   "cell_type": "code",
   "execution_count": 28,
   "metadata": {},
   "outputs": [
    {
     "data": {
      "image/png": "[encoded data removed]",
      "text/plain": [
       "plot without title"
      ]
     },
     "metadata": {},
     "output_type": "display_data"
    }
   ],
   "source": [
    "grid.arrange(plot_gender,plot_partner,plot_dependents, ncol = 2)"
   ]
  },
  {
   "cell_type": "code",
   "execution_count": 29,
   "metadata": {},
   "outputs": [],
   "source": [
    "#Call Service\n",
    "plot_callservice = ggplot(data, aes(x = CallService)) +\n",
    "  geom_bar() +\n",
    "  geom_text(aes(y = ..count.. -200, \n",
    "                label = paste0(round(prop.table(..count..),4) * 100, '%')), \n",
    "            stat = 'count', \n",
    "            position = position_dodge(.1), \n",
    "            size = 3)\n",
    "\n",
    "#MultipleConnections\n",
    "plot_MultipleConnections = ggplot(data, aes(x = MultipleConnections)) +\n",
    "  geom_bar() +\n",
    "  geom_text(aes(y = ..count.. -200, \n",
    "                label = paste0(round(prop.table(..count..),4) * 100, '%')), \n",
    "            stat = 'count', \n",
    "            position = position_dodge(.1), \n",
    "            size = 3)\n",
    "\n",
    "#InternetConnection\n",
    "plot_InternetConnection = ggplot(data, aes(x = InternetConnection)) +\n",
    "  geom_bar() +\n",
    "  geom_text(aes(y = ..count.. -200, \n",
    "                label = paste0(round(prop.table(..count..),4) * 100, '%')), \n",
    "            stat = 'count', \n",
    "            position = position_dodge(.1), \n",
    "            size = 3)\n",
    "\n",
    "#Online security\n",
    "plot_OnlineSecurity = ggplot(data, aes(x = OnlineSecurity)) +\n",
    "  geom_bar() +\n",
    "  geom_text(aes(y = ..count.. -200, \n",
    "                label = paste0(round(prop.table(..count..),4) * 100, '%')), \n",
    "            stat = 'count', \n",
    "            position = position_dodge(.1), \n",
    "            size = 3)\n",
    "\n",
    "#OnlineBackup\n",
    "plot_OnlineBackup = ggplot(data, aes(x = OnlineBackup)) +\n",
    "  geom_bar() +\n",
    "  geom_text(aes(y = ..count.. -200, \n",
    "                label = paste0(round(prop.table(..count..),4) * 100, '%')), \n",
    "            stat = 'count', \n",
    "            position = position_dodge(.1), \n",
    "            size = 3)\n",
    "\n",
    "#Device Protection service\n",
    "plot_deviceprotection = ggplot(data, aes(x = DeviceProtectionService)) +\n",
    "  geom_bar() +\n",
    "  geom_text(aes(y = ..count.. -200, \n",
    "                label = paste0(round(prop.table(..count..),4) * 100, '%')), \n",
    "            stat = 'count', \n",
    "            position = position_dodge(.1), \n",
    "            size = 3)\n",
    "\n",
    "#TechnicalHelp\n",
    "plot_TechnicalHelp = ggplot(data, aes(x = TechnicalHelp)) +\n",
    "  geom_bar() +\n",
    "  geom_text(aes(y = ..count.. -200, \n",
    "                label = paste0(round(prop.table(..count..),4) * 100, '%')), \n",
    "            stat = 'count', \n",
    "            position = position_dodge(.1), \n",
    "            size = 3)\n",
    "\n",
    "#OnlineTV\n",
    "plot_OnlineTV = ggplot(data, aes(x = OnlineTV)) +\n",
    "  geom_bar() +\n",
    "  geom_text(aes(y = ..count.. -200, \n",
    "                label = paste0(round(prop.table(..count..),4) * 100, '%')), \n",
    "            stat = 'count', \n",
    "            position = position_dodge(.1), \n",
    "            size = 3)\n",
    "\n",
    "#OnlineMovies\n",
    "plot_OnlineMovies = ggplot(data, aes(x = OnlineMovies)) +\n",
    "  geom_bar() +\n",
    "  geom_text(aes(y = ..count.. -200, \n",
    "                label = paste0(round(prop.table(..count..),4) * 100, '%')), \n",
    "            stat = 'count', \n",
    "            position = position_dodge(.1), \n",
    "            size = 3)"
   ]
  },
  {
   "cell_type": "code",
   "execution_count": 30,
   "metadata": {},
   "outputs": [
    {
     "data": {
      "image/png": "[encoded data removed]",
      "text/plain": [
       "plot without title"
      ]
     },
     "metadata": {},
     "output_type": "display_data"
    }
   ],
   "source": [
    "#Plot service data within a grid\n",
    "grid.arrange(plot_callservice, plot_MultipleConnections, plot_InternetConnection, plot_OnlineSecurity, plot_OnlineBackup, plot_deviceprotection, plot_TechnicalHelp, plot_OnlineTV, plot_OnlineMovies, ncol = 3)"
   ]
  },
  {
   "cell_type": "code",
   "execution_count": 31,
   "metadata": {},
   "outputs": [],
   "source": [
    "#Agreement\n",
    "plot_Agreement = ggplot(data, aes(x = Agreement)) +\n",
    "  geom_bar() +\n",
    "  geom_text(aes(y = ..count.. -200, \n",
    "                label = paste0(round(prop.table(..count..),4) * 100, '%')), \n",
    "            stat = 'count', \n",
    "            position = position_dodge(.1), \n",
    "            size = 3)\n",
    "\n",
    "#BillingMethod\n",
    "plot_BillingMethod = ggplot(data, aes(x = BillingMethod)) +\n",
    "  geom_bar() +\n",
    "  geom_text(aes(y = ..count.. -200, \n",
    "                label = paste0(round(prop.table(..count..),4) * 100, '%')), \n",
    "            stat = 'count', \n",
    "            position = position_dodge(.1), \n",
    "            size = 3)\n",
    "\n",
    "#Payment method\n",
    "plot_PaymentMethod = ggplot(data, aes(x = PaymentMethod)) +\n",
    "  geom_bar() +\n",
    "  geom_text(aes(y = ..count.. -200, \n",
    "                label = paste0(round(prop.table(..count..),4) * 100, '%')), \n",
    "            stat = 'count', \n",
    "            position = position_dodge(.1), \n",
    "            size = 3)"
   ]
  },
  {
   "cell_type": "code",
   "execution_count": 32,
   "metadata": {},
   "outputs": [
    {
     "data": {
      "image/png": "[encoded data removed]",
      "text/plain": [
       "plot without title"
      ]
     },
     "metadata": {},
     "output_type": "display_data"
    }
   ],
   "source": [
    "#Plot contract data within a grid\n",
    "grid.arrange(plot_Agreement, plot_BillingMethod, plot_PaymentMethod, ncol=1)"
   ]
  },
  {
   "cell_type": "code",
   "execution_count": 33,
   "metadata": {},
   "outputs": [],
   "source": [
    "#Tenure \n",
    "plot_tenure = ggplot(data, aes(x = tenure)) +\n",
    "  geom_histogram(binwidth = 1) +\n",
    "  labs(x = \"Months\",\n",
    "       title = \"Tenure Distribtion\")\n",
    "\n",
    "#MonthlyServiceCharges\n",
    "plot_MonthlyServiceCharges = ggplot(data, aes(x = MonthlyServiceCharges)) +\n",
    "  geom_histogram(binwidth = 5) +\n",
    "  labs(x = \"Dollars (binwidth = 5)\",\n",
    "       title = \"Monthly Service charges Distribtion\")\n",
    "\n",
    "#TotalAmount\n",
    "plot_TotalAmount = ggplot(data, aes(x = TotalAmount)) +\n",
    "  geom_histogram(binwidth = 100) +\n",
    "  labs(x = \"Dollars (binwidth = 100)\",\n",
    "       title = \"Total charges Distribtion\")\n"
   ]
  },
  {
   "cell_type": "code",
   "execution_count": 34,
   "metadata": {},
   "outputs": [
    {
     "data": {
      "image/png": "[encoded data removed]",
      "text/plain": [
       "plot without title"
      ]
     },
     "metadata": {},
     "output_type": "display_data"
    }
   ],
   "source": [
    "grid.arrange(plot_tenure, plot_MonthlyServiceCharges, plot_TotalAmount, ncol=1)"
   ]
  },
  {
   "cell_type": "code",
   "execution_count": 35,
   "metadata": {},
   "outputs": [],
   "source": [
    "plot_churn = ggplot(data, aes(x = Churn)) +\n",
    "  geom_bar() +\n",
    "  geom_text(aes(y = ..count.. -200, \n",
    "                label = paste0(round(prop.table(..count..),4) * 100, '%')), \n",
    "            stat = 'count', \n",
    "            position = position_dodge(.1), \n",
    "            size = 3)"
   ]
  },
  {
   "cell_type": "code",
   "execution_count": 36,
   "metadata": {},
   "outputs": [
    {
     "data": {
      "image/png": "[encoded data removed]",
      "text/plain": [
       "plot without title"
      ]
     },
     "metadata": {},
     "output_type": "display_data"
    }
   ],
   "source": [
    "plot_churn"
   ]
  },
  {
   "cell_type": "markdown",
   "metadata": {},
   "source": [
    "### A little less than half of our sample is no longer the customer."
   ]
  },
  {
   "cell_type": "markdown",
   "metadata": {},
   "source": [
    "## Statistical Modelling"
   ]
  },
  {
   "cell_type": "markdown",
   "metadata": {},
   "source": [
    "## 1. Decision Tree"
   ]
  },
  {
   "cell_type": "markdown",
   "metadata": {},
   "source": [
    "### Decision tree analysis is a classification method that uses tree-like models of decisions and their possible outcomes. This method is one of the most commonly used tools in machine learning analysis. We will use the rpart library in order to use recursive partitioning methods for decision trees. This exploratory method will identify the most important variables related to churn in a hierarchical format."
   ]
  },
  {
   "cell_type": "code",
   "execution_count": 37,
   "metadata": {},
   "outputs": [
    {
     "data": {
      "image/png": "[encoded data removed]",
      "text/plain": [
       "plot without title"
      ]
     },
     "metadata": {},
     "output_type": "display_data"
    }
   ],
   "source": [
    "tree = rpart(Churn ~., data = train, method=\"class\")\n",
    "rpart.plot(tree)"
   ]
  },
  {
   "cell_type": "markdown",
   "metadata": {},
   "source": [
    "### Confusion Matrix"
   ]
  },
  {
   "cell_type": "code",
   "execution_count": 38,
   "metadata": {},
   "outputs": [
    {
     "data": {
      "text/plain": [
       "         Actual\n",
       "Predicted   No  Yes\n",
       "      No  1563  402\n",
       "      Yes  455 1280"
      ]
     },
     "metadata": {},
     "output_type": "display_data"
    }
   ],
   "source": [
    "tree_1 = predict(tree, test)\n",
    "tree_1 <- ifelse(tree_1[,2] > 0.5,\"Yes\",\"No\")\n",
    "table(Predicted = tree_1, Actual = test$Churn)"
   ]
  },
  {
   "cell_type": "markdown",
   "metadata": {},
   "source": [
    "### The diagonal entries give our correct predictions, with the upper left being TN and the lower right being TP. The upper right gives the FN while the lower left gives the FP. From this confusion matrix, we can see that the model performs well at predicting non-churning customers but does not perform as well at predicting churning customers."
   ]
  },
  {
   "cell_type": "markdown",
   "metadata": {},
   "source": [
    "### Predicting the accuracy of the model"
   ]
  },
  {
   "cell_type": "code",
   "execution_count": 39,
   "metadata": {},
   "outputs": [
    {
     "data": {
      "text/html": [
       "0.768378378378378"
      ],
      "text/latex": [
       "0.768378378378378"
      ],
      "text/markdown": [
       "0.768378378378378"
      ],
      "text/plain": [
       "[1] 0.7683784"
      ]
     },
     "metadata": {},
     "output_type": "display_data"
    }
   ],
   "source": [
    "tree_2 = predict(tree, train)\n",
    "tree_2 = ifelse(tree_2[,2] > 0.5,\"Yes\",\"No\")\n",
    "tree_tab1 = table(Predicted = tree_2, Actual = train$Churn)\n",
    "tree_tab2 = table(Predicted = tree_1, Actual = test$Churn)\n",
    "accuracy = sum(diag(tree_tab2))/sum(tree_tab2)\n",
    "accuracy"
   ]
  },
  {
   "cell_type": "markdown",
   "metadata": {},
   "source": [
    "## 2. Random Forest "
   ]
  },
  {
   "cell_type": "markdown",
   "metadata": {},
   "source": [
    "### Random forest analysis is another machine learning classification method that is often used in customer churn analysis. The method operates by constructing multiple decision trees and constructing models based on summary statistics of these decision trees.We will begin by identifying the number of variables randomly sampled as candidates at each split of the algorithm. In the randomForest package, this is referred to as the ‘mtry’ parameter or argument."
   ]
  },
  {
   "cell_type": "code",
   "execution_count": 40,
   "metadata": {},
   "outputs": [
    {
     "data": {
      "text/plain": [
       "Random Forest \n",
       "\n",
       "8635 samples\n",
       "  18 predictor\n",
       "   2 classes: 'No', 'Yes' \n",
       "\n",
       "No pre-processing\n",
       "Resampling: Cross-Validated (5 fold) \n",
       "Summary of sample sizes: 6908, 6908, 6908, 6908, 6908 \n",
       "Resampling results across tuning parameters:\n",
       "\n",
       "  mtry  ROC        Sens       Spec     \n",
       "   2    0.8886546  0.8148620  0.8170701\n",
       "   7    0.9364971  0.8946921  0.8048408\n",
       "  12    0.9382428  0.9006369  0.7943949\n",
       "  17    0.9377787  0.9031847  0.7877707\n",
       "  22    0.9363524  0.9036093  0.7814013\n",
       "\n",
       "ROC was used to select the optimal model using the largest value.\n",
       "The final value used for the model was mtry = 12."
      ]
     },
     "metadata": {},
     "output_type": "display_data"
    }
   ],
   "source": [
    "#Set control parameters for random forest model selection\n",
    "control = trainControl(method = \"cv\", number=5, \n",
    "                     classProbs = TRUE, summaryFunction = twoClassSummary)\n",
    "\n",
    "#Exploratory random forest model selection\n",
    "ran_fit = train(Churn ~., data = train,\n",
    "                 method = \"rf\",\n",
    "                 ntree = 75,\n",
    "                 tuneLength = 5,\n",
    "                 metric = \"ROC\",\n",
    "                 trControl = control)\n",
    "ran_fit"
   ]
  },
  {
   "cell_type": "code",
   "execution_count": 42,
   "metadata": {},
   "outputs": [
    {
     "data": {
      "image/png": "[encoded data removed]",
      "text/plain": [
       "plot without title"
      ]
     },
     "metadata": {},
     "output_type": "display_data"
    }
   ],
   "source": [
    "ran_fit1 = randomForest(Churn ~., data = train, \n",
    "                        ntree = 75, mtry = 12, \n",
    "                        importance = TRUE, proximity = TRUE)\n",
    "\n",
    "#Display variable importance from random tree\n",
    "varImpPlot(ran_fit1, sort=T, n.var = 10, \n",
    "           main = 'Top 10 variables')"
   ]
  },
  {
   "cell_type": "code",
   "execution_count": 45,
   "metadata": {},
   "outputs": [],
   "source": [
    "ran_fit_pred = predict(ran_fit1,test)"
   ]
  },
  {
   "cell_type": "code",
   "execution_count": 46,
   "metadata": {},
   "outputs": [
    {
     "data": {
      "text/plain": [
       "         Actual\n",
       "Predicted   No  Yes\n",
       "      No  1850  300\n",
       "      Yes  168 1382"
      ]
     },
     "metadata": {},
     "output_type": "display_data"
    }
   ],
   "source": [
    "table(Predicted = ran_fit_pred, Actual = test$Churn)"
   ]
  },
  {
   "cell_type": "code",
   "execution_count": 47,
   "metadata": {},
   "outputs": [
    {
     "data": {
      "text/html": [
       "0.873513513513513"
      ],
      "text/latex": [
       "0.873513513513513"
      ],
      "text/markdown": [
       "0.873513513513513"
      ],
      "text/plain": [
       "[1] 0.8735135"
      ]
     },
     "metadata": {},
     "output_type": "display_data"
    }
   ],
   "source": [
    "ran_fit_pred_1 = predict(ran_fit1, train)\n",
    "ran_fit_tab = table(Predicted = ran_fit_pred_1, Actual = train$Churn)\n",
    "ran_fit_tab_1 = table(Predicted = ran_fit_pred, Actual = test$Churn)\n",
    "accuracy_rf = sum(diag(ran_fit_tab_1))/sum(ran_fit_tab_1)\n",
    "accuracy_rf"
   ]
  },
  {
   "cell_type": "markdown",
   "metadata": {},
   "source": [
    "### Random Forest Analysis has come out to be more accurate than the Decision Tree analysis."
   ]
  },
  {
   "cell_type": "code",
   "execution_count": 49,
   "metadata": {},
   "outputs": [
    {
     "data": {
      "image/png": "[encoded data removed]",
      "text/plain": [
       "plot without title"
      ]
     },
     "metadata": {},
     "output_type": "display_data"
    }
   ],
   "source": [
    "plot_churn_agreement <- ggplot(data, aes(x = Agreement, fill = Churn)) +\n",
    "  geom_bar() +\n",
    "  geom_text(aes(y = ..count.. -200, \n",
    "                label = paste0(round(prop.table(..count..),4) * 100, '%')), \n",
    "            stat = 'count', \n",
    "            position = position_dodge(.1), \n",
    "            size = 3) +\n",
    "  labs(title=\"Churn rate by Agreement status\")\n",
    "\n",
    "plot_churn_agreement"
   ]
  },
  {
   "cell_type": "code",
   "execution_count": 51,
   "metadata": {},
   "outputs": [
    {
     "data": {
      "image/png": "[encoded data removed]",
      "text/plain": [
       "plot without title"
      ]
     },
     "metadata": {},
     "output_type": "display_data"
    }
   ],
   "source": [
    "plot_churn_Internetconnection <- ggplot(data, aes(x = InternetConnection, fill = Churn)) +\n",
    "  geom_bar() +\n",
    "  geom_text(aes(y = ..count.. -200, \n",
    "                label = paste0(round(prop.table(..count..),4) * 100, '%')), \n",
    "            stat = 'count', \n",
    "            position = position_dodge(.1), \n",
    "            size = 3) +\n",
    "  labs(title=\"Churn rate by internet Connection status\")\n",
    "\n",
    "plot_churn_Internetconnection"
   ]
  },
  {
   "cell_type": "code",
   "execution_count": 52,
   "metadata": {},
   "outputs": [
    {
     "data": {
      "image/png": "[encoded data removed]",
      "text/plain": [
       "plot without title"
      ]
     },
     "metadata": {},
     "output_type": "display_data"
    }
   ],
   "source": [
    "plot_churn_tenure <- ggplot(data, aes(x = tenure, fill = Churn)) +\n",
    "  geom_histogram(binwidth = 1) +\n",
    "  labs(x = \"Months\",\n",
    "       title = \"Churn rate by tenure\")\n",
    "plot_churn_tenure"
   ]
  },
  {
   "cell_type": "code",
   "execution_count": null,
   "metadata": {},
   "outputs": [],
   "source": []
  }
 ],
 "metadata": {
  "kernelspec": {
   "display_name": "R",
   "language": "R",
   "name": "ir"
  },
  "language_info": {
   "codemirror_mode": "r",
   "file_extension": ".r",
   "mimetype": "text/x-r-source",
   "name": "R",
   "pygments_lexer": "r",
   "version": "3.6.1"
  }
 },
 "nbformat": 4,
 "nbformat_minor": 4
}
