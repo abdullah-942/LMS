{
 "cells": [
  {
   "cell_type": "markdown",
   "metadata": {},
   "source": [
    "## Read data"
   ]
  },
  {
   "cell_type": "code",
   "execution_count": 1,
   "metadata": {},
   "outputs": [],
   "source": [
    "wine = read.csv(\"D:/Imarticus/wine.data.txt\")"
   ]
  },
  {
   "cell_type": "code",
   "execution_count": 2,
   "metadata": {},
   "outputs": [],
   "source": [
    "colnames(wine) <- c('Type','Alcohol','Malic','Ash','Alcalinity','Magnesium','Phenols','Flavanoids','Nonflavanoids','Proanthocyanins','Color','Hue','Dilution','Proline')"
   ]
  },
  {
   "cell_type": "code",
   "execution_count": 3,
   "metadata": {},
   "outputs": [
    {
     "name": "stderr",
     "output_type": "stream",
     "text": [
      "Warning message:\n",
      "\"package 'ggplot2' was built under R version 3.6.3\"Warning message:\n",
      "\"package 'caret' was built under R version 3.6.3\"Loading required package: lattice\n"
     ]
    }
   ],
   "source": [
    "library(ggplot2) \n",
    "library(caret)"
   ]
  },
  {
   "cell_type": "code",
   "execution_count": 4,
   "metadata": {},
   "outputs": [
    {
     "data": {
      "text/html": [
       "<table>\n",
       "<thead><tr><th scope=col>Type</th><th scope=col>Alcohol</th><th scope=col>Malic</th><th scope=col>Ash</th><th scope=col>Alcalinity</th><th scope=col>Magnesium</th><th scope=col>Phenols</th><th scope=col>Flavanoids</th><th scope=col>Nonflavanoids</th><th scope=col>Proanthocyanins</th><th scope=col>Color</th><th scope=col>Hue</th><th scope=col>Dilution</th><th scope=col>Proline</th></tr></thead>\n",
       "<tbody>\n",
       "\t<tr><td>1    </td><td>13.20</td><td>1.78 </td><td>2.14 </td><td>11.2 </td><td>100  </td><td>2.65 </td><td>2.76 </td><td>0.26 </td><td>1.28 </td><td>4.38 </td><td>1.05 </td><td>3.40 </td><td>1050 </td></tr>\n",
       "\t<tr><td>1    </td><td>13.16</td><td>2.36 </td><td>2.67 </td><td>18.6 </td><td>101  </td><td>2.80 </td><td>3.24 </td><td>0.30 </td><td>2.81 </td><td>5.68 </td><td>1.03 </td><td>3.17 </td><td>1185 </td></tr>\n",
       "\t<tr><td>1    </td><td>14.37</td><td>1.95 </td><td>2.50 </td><td>16.8 </td><td>113  </td><td>3.85 </td><td>3.49 </td><td>0.24 </td><td>2.18 </td><td>7.80 </td><td>0.86 </td><td>3.45 </td><td>1480 </td></tr>\n",
       "\t<tr><td>1    </td><td>13.24</td><td>2.59 </td><td>2.87 </td><td>21.0 </td><td>118  </td><td>2.80 </td><td>2.69 </td><td>0.39 </td><td>1.82 </td><td>4.32 </td><td>1.04 </td><td>2.93 </td><td> 735 </td></tr>\n",
       "\t<tr><td>1    </td><td>14.20</td><td>1.76 </td><td>2.45 </td><td>15.2 </td><td>112  </td><td>3.27 </td><td>3.39 </td><td>0.34 </td><td>1.97 </td><td>6.75 </td><td>1.05 </td><td>2.85 </td><td>1450 </td></tr>\n",
       "\t<tr><td>1    </td><td>14.39</td><td>1.87 </td><td>2.45 </td><td>14.6 </td><td> 96  </td><td>2.50 </td><td>2.52 </td><td>0.30 </td><td>1.98 </td><td>5.25 </td><td>1.02 </td><td>3.58 </td><td>1290 </td></tr>\n",
       "</tbody>\n",
       "</table>\n"
      ],
      "text/latex": [
       "\\begin{tabular}{r|llllllllllllll}\n",
       " Type & Alcohol & Malic & Ash & Alcalinity & Magnesium & Phenols & Flavanoids & Nonflavanoids & Proanthocyanins & Color & Hue & Dilution & Proline\\\\\n",
       "\\hline\n",
       "\t 1     & 13.20 & 1.78  & 2.14  & 11.2  & 100   & 2.65  & 2.76  & 0.26  & 1.28  & 4.38  & 1.05  & 3.40  & 1050 \\\\\n",
       "\t 1     & 13.16 & 2.36  & 2.67  & 18.6  & 101   & 2.80  & 3.24  & 0.30  & 2.81  & 5.68  & 1.03  & 3.17  & 1185 \\\\\n",
       "\t 1     & 14.37 & 1.95  & 2.50  & 16.8  & 113   & 3.85  & 3.49  & 0.24  & 2.18  & 7.80  & 0.86  & 3.45  & 1480 \\\\\n",
       "\t 1     & 13.24 & 2.59  & 2.87  & 21.0  & 118   & 2.80  & 2.69  & 0.39  & 1.82  & 4.32  & 1.04  & 2.93  &  735 \\\\\n",
       "\t 1     & 14.20 & 1.76  & 2.45  & 15.2  & 112   & 3.27  & 3.39  & 0.34  & 1.97  & 6.75  & 1.05  & 2.85  & 1450 \\\\\n",
       "\t 1     & 14.39 & 1.87  & 2.45  & 14.6  &  96   & 2.50  & 2.52  & 0.30  & 1.98  & 5.25  & 1.02  & 3.58  & 1290 \\\\\n",
       "\\end{tabular}\n"
      ],
      "text/markdown": [
       "\n",
       "| Type | Alcohol | Malic | Ash | Alcalinity | Magnesium | Phenols | Flavanoids | Nonflavanoids | Proanthocyanins | Color | Hue | Dilution | Proline |\n",
       "|---|---|---|---|---|---|---|---|---|---|---|---|---|---|\n",
       "| 1     | 13.20 | 1.78  | 2.14  | 11.2  | 100   | 2.65  | 2.76  | 0.26  | 1.28  | 4.38  | 1.05  | 3.40  | 1050  |\n",
       "| 1     | 13.16 | 2.36  | 2.67  | 18.6  | 101   | 2.80  | 3.24  | 0.30  | 2.81  | 5.68  | 1.03  | 3.17  | 1185  |\n",
       "| 1     | 14.37 | 1.95  | 2.50  | 16.8  | 113   | 3.85  | 3.49  | 0.24  | 2.18  | 7.80  | 0.86  | 3.45  | 1480  |\n",
       "| 1     | 13.24 | 2.59  | 2.87  | 21.0  | 118   | 2.80  | 2.69  | 0.39  | 1.82  | 4.32  | 1.04  | 2.93  |  735  |\n",
       "| 1     | 14.20 | 1.76  | 2.45  | 15.2  | 112   | 3.27  | 3.39  | 0.34  | 1.97  | 6.75  | 1.05  | 2.85  | 1450  |\n",
       "| 1     | 14.39 | 1.87  | 2.45  | 14.6  |  96   | 2.50  | 2.52  | 0.30  | 1.98  | 5.25  | 1.02  | 3.58  | 1290  |\n",
       "\n"
      ],
      "text/plain": [
       "  Type Alcohol Malic Ash  Alcalinity Magnesium Phenols Flavanoids Nonflavanoids\n",
       "1 1    13.20   1.78  2.14 11.2       100       2.65    2.76       0.26         \n",
       "2 1    13.16   2.36  2.67 18.6       101       2.80    3.24       0.30         \n",
       "3 1    14.37   1.95  2.50 16.8       113       3.85    3.49       0.24         \n",
       "4 1    13.24   2.59  2.87 21.0       118       2.80    2.69       0.39         \n",
       "5 1    14.20   1.76  2.45 15.2       112       3.27    3.39       0.34         \n",
       "6 1    14.39   1.87  2.45 14.6        96       2.50    2.52       0.30         \n",
       "  Proanthocyanins Color Hue  Dilution Proline\n",
       "1 1.28            4.38  1.05 3.40     1050   \n",
       "2 2.81            5.68  1.03 3.17     1185   \n",
       "3 2.18            7.80  0.86 3.45     1480   \n",
       "4 1.82            4.32  1.04 2.93      735   \n",
       "5 1.97            6.75  1.05 2.85     1450   \n",
       "6 1.98            5.25  1.02 3.58     1290   "
      ]
     },
     "metadata": {},
     "output_type": "display_data"
    }
   ],
   "source": [
    "head(wine)"
   ]
  },
  {
   "cell_type": "code",
   "execution_count": 5,
   "metadata": {},
   "outputs": [
    {
     "data": {
      "text/plain": [
       "      Type          Alcohol          Malic           Ash          Alcalinity   \n",
       " Min.   :1.000   Min.   :11.03   Min.   :0.74   Min.   :1.360   Min.   :10.60  \n",
       " 1st Qu.:1.000   1st Qu.:12.36   1st Qu.:1.60   1st Qu.:2.210   1st Qu.:17.20  \n",
       " Median :2.000   Median :13.05   Median :1.87   Median :2.360   Median :19.50  \n",
       " Mean   :1.944   Mean   :12.99   Mean   :2.34   Mean   :2.366   Mean   :19.52  \n",
       " 3rd Qu.:3.000   3rd Qu.:13.67   3rd Qu.:3.10   3rd Qu.:2.560   3rd Qu.:21.50  \n",
       " Max.   :3.000   Max.   :14.83   Max.   :5.80   Max.   :3.230   Max.   :30.00  \n",
       "   Magnesium         Phenols        Flavanoids    Nonflavanoids   \n",
       " Min.   : 70.00   Min.   :0.980   Min.   :0.340   Min.   :0.1300  \n",
       " 1st Qu.: 88.00   1st Qu.:1.740   1st Qu.:1.200   1st Qu.:0.2700  \n",
       " Median : 98.00   Median :2.350   Median :2.130   Median :0.3400  \n",
       " Mean   : 99.59   Mean   :2.292   Mean   :2.023   Mean   :0.3623  \n",
       " 3rd Qu.:107.00   3rd Qu.:2.800   3rd Qu.:2.860   3rd Qu.:0.4400  \n",
       " Max.   :162.00   Max.   :3.880   Max.   :5.080   Max.   :0.6600  \n",
       " Proanthocyanins     Color             Hue           Dilution    \n",
       " Min.   :0.410   Min.   : 1.280   Min.   :0.480   Min.   :1.270  \n",
       " 1st Qu.:1.250   1st Qu.: 3.210   1st Qu.:0.780   1st Qu.:1.930  \n",
       " Median :1.550   Median : 4.680   Median :0.960   Median :2.780  \n",
       " Mean   :1.587   Mean   : 5.055   Mean   :0.957   Mean   :2.604  \n",
       " 3rd Qu.:1.950   3rd Qu.: 6.200   3rd Qu.:1.120   3rd Qu.:3.170  \n",
       " Max.   :3.580   Max.   :13.000   Max.   :1.710   Max.   :4.000  \n",
       "    Proline      \n",
       " Min.   : 278.0  \n",
       " 1st Qu.: 500.0  \n",
       " Median : 672.0  \n",
       " Mean   : 745.1  \n",
       " 3rd Qu.: 985.0  \n",
       " Max.   :1680.0  "
      ]
     },
     "metadata": {},
     "output_type": "display_data"
    }
   ],
   "source": [
    "summary(wine)"
   ]
  },
  {
   "cell_type": "code",
   "execution_count": 6,
   "metadata": {},
   "outputs": [
    {
     "data": {
      "text/html": [
       "<dl class=dl-horizontal>\n",
       "\t<dt>Type</dt>\n",
       "\t\t<dd>0</dd>\n",
       "\t<dt>Alcohol</dt>\n",
       "\t\t<dd>0</dd>\n",
       "\t<dt>Malic</dt>\n",
       "\t\t<dd>0</dd>\n",
       "\t<dt>Ash</dt>\n",
       "\t\t<dd>0</dd>\n",
       "\t<dt>Alcalinity</dt>\n",
       "\t\t<dd>0</dd>\n",
       "\t<dt>Magnesium</dt>\n",
       "\t\t<dd>0</dd>\n",
       "\t<dt>Phenols</dt>\n",
       "\t\t<dd>0</dd>\n",
       "\t<dt>Flavanoids</dt>\n",
       "\t\t<dd>0</dd>\n",
       "\t<dt>Nonflavanoids</dt>\n",
       "\t\t<dd>0</dd>\n",
       "\t<dt>Proanthocyanins</dt>\n",
       "\t\t<dd>0</dd>\n",
       "\t<dt>Color</dt>\n",
       "\t\t<dd>0</dd>\n",
       "\t<dt>Hue</dt>\n",
       "\t\t<dd>0</dd>\n",
       "\t<dt>Dilution</dt>\n",
       "\t\t<dd>0</dd>\n",
       "\t<dt>Proline</dt>\n",
       "\t\t<dd>0</dd>\n",
       "</dl>\n"
      ],
      "text/latex": [
       "\\begin{description*}\n",
       "\\item[Type] 0\n",
       "\\item[Alcohol] 0\n",
       "\\item[Malic] 0\n",
       "\\item[Ash] 0\n",
       "\\item[Alcalinity] 0\n",
       "\\item[Magnesium] 0\n",
       "\\item[Phenols] 0\n",
       "\\item[Flavanoids] 0\n",
       "\\item[Nonflavanoids] 0\n",
       "\\item[Proanthocyanins] 0\n",
       "\\item[Color] 0\n",
       "\\item[Hue] 0\n",
       "\\item[Dilution] 0\n",
       "\\item[Proline] 0\n",
       "\\end{description*}\n"
      ],
      "text/markdown": [
       "Type\n",
       ":   0Alcohol\n",
       ":   0Malic\n",
       ":   0Ash\n",
       ":   0Alcalinity\n",
       ":   0Magnesium\n",
       ":   0Phenols\n",
       ":   0Flavanoids\n",
       ":   0Nonflavanoids\n",
       ":   0Proanthocyanins\n",
       ":   0Color\n",
       ":   0Hue\n",
       ":   0Dilution\n",
       ":   0Proline\n",
       ":   0\n",
       "\n"
      ],
      "text/plain": [
       "           Type         Alcohol           Malic             Ash      Alcalinity \n",
       "              0               0               0               0               0 \n",
       "      Magnesium         Phenols      Flavanoids   Nonflavanoids Proanthocyanins \n",
       "              0               0               0               0               0 \n",
       "          Color             Hue        Dilution         Proline \n",
       "              0               0               0               0 "
      ]
     },
     "metadata": {},
     "output_type": "display_data"
    }
   ],
   "source": [
    "sapply(wine, function(x) sum(is.na(x)))"
   ]
  },
  {
   "cell_type": "markdown",
   "metadata": {},
   "source": [
    "### No missing values"
   ]
  },
  {
   "cell_type": "markdown",
   "metadata": {},
   "source": [
    "## Histogram"
   ]
  },
  {
   "cell_type": "code",
   "execution_count": 7,
   "metadata": {},
   "outputs": [
    {
     "data": {
      "image/png": "[encoded data removed]",
      "text/plain": [
       "plot without title"
      ]
     },
     "metadata": {},
     "output_type": "display_data"
    }
   ],
   "source": [
    "ggplot(aes(x=Type), data = wine) + geom_bar(fill='steelblue',colour='darkgrey',alpha=0.8)"
   ]
  },
  {
   "cell_type": "markdown",
   "metadata": {},
   "source": [
    "### From the above chart, we can notice that class 2 observations are higher than the other two classes."
   ]
  },
  {
   "cell_type": "code",
   "execution_count": 8,
   "metadata": {},
   "outputs": [
    {
     "data": {
      "image/png": "[encoded data removed]",
      "text/plain": [
       "Plot with title \"Alcohol (% of vol)\""
      ]
     },
     "metadata": {},
     "output_type": "display_data"
    }
   ],
   "source": [
    "hist(wine$Alcohol, main = 'Alcohol (% of vol)')"
   ]
  },
  {
   "cell_type": "markdown",
   "metadata": {},
   "source": []
  },
  {
   "cell_type": "code",
   "execution_count": 20,
   "metadata": {},
   "outputs": [
    {
     "name": "stderr",
     "output_type": "stream",
     "text": [
      "Installing package into 'C:/Users/Abdullah/R/win-library/3.6'\n",
      "(as 'lib' is unspecified)\n"
     ]
    },
    {
     "name": "stdout",
     "output_type": "stream",
     "text": [
      "package 'MASS' successfully unpacked and MD5 sums checked\n"
     ]
    },
    {
     "name": "stderr",
     "output_type": "stream",
     "text": [
      "Warning message:\n",
      "\"cannot remove prior installation of package 'MASS'\"Warning message in file.copy(savedcopy, lib, recursive = TRUE):\n",
      "\"problem copying C:\\Users\\Abdullah\\R\\win-library\\3.6\\00LOCK\\MASS\\libs\\x64\\MASS.dll to C:\\Users\\Abdullah\\R\\win-library\\3.6\\MASS\\libs\\x64\\MASS.dll: Permission denied\"Warning message:\n",
      "\"restored 'MASS'\""
     ]
    },
    {
     "name": "stdout",
     "output_type": "stream",
     "text": [
      "\n",
      "The downloaded binary packages are in\n",
      "\tC:\\Users\\Abdullah\\AppData\\Local\\Temp\\RtmpErBKyb\\downloaded_packages\n"
     ]
    },
    {
     "name": "stderr",
     "output_type": "stream",
     "text": [
      "Installing package into 'C:/Users/Abdullah/R/win-library/3.6'\n",
      "(as 'lib' is unspecified)\n"
     ]
    },
    {
     "name": "stdout",
     "output_type": "stream",
     "text": [
      "package 'car' successfully unpacked and MD5 sums checked\n",
      "\n",
      "The downloaded binary packages are in\n",
      "\tC:\\Users\\Abdullah\\AppData\\Local\\Temp\\RtmpErBKyb\\downloaded_packages\n"
     ]
    },
    {
     "name": "stderr",
     "output_type": "stream",
     "text": [
      "Installing package into 'C:/Users/Abdullah/R/win-library/3.6'\n",
      "(as 'lib' is unspecified)\n",
      "Warning message:\n",
      "\"package 'caret' is in use and will not be installed\"Installing package into 'C:/Users/Abdullah/R/win-library/3.6'\n",
      "(as 'lib' is unspecified)\n",
      "also installing the dependencies 'rlang', 'R.methodsS3', 'R.oo', 'R.utils', 'vctrs', 'R.cache', 'rematch2', 'haven', 'styler', 'classInt', 'labelled', 'combinat', 'questionr'\n",
      "\n"
     ]
    },
    {
     "name": "stdout",
     "output_type": "stream",
     "text": [
      "\n",
      "  There is a binary version available but the source version is later:\n",
      "      binary source needs_compilation\n",
      "rlang  0.4.8  0.4.9              TRUE\n",
      "\n",
      "  Binaries will be installed\n",
      "package 'rlang' successfully unpacked and MD5 sums checked\n"
     ]
    },
    {
     "name": "stderr",
     "output_type": "stream",
     "text": [
      "Warning message:\n",
      "\"cannot remove prior installation of package 'rlang'\"Warning message in file.copy(savedcopy, lib, recursive = TRUE):\n",
      "\"problem copying C:\\Users\\Abdullah\\R\\win-library\\3.6\\00LOCK\\rlang\\libs\\x64\\rlang.dll to C:\\Users\\Abdullah\\R\\win-library\\3.6\\rlang\\libs\\x64\\rlang.dll: Permission denied\"Warning message:\n",
      "\"restored 'rlang'\""
     ]
    },
    {
     "name": "stdout",
     "output_type": "stream",
     "text": [
      "package 'R.methodsS3' successfully unpacked and MD5 sums checked\n",
      "package 'R.oo' successfully unpacked and MD5 sums checked\n",
      "package 'R.utils' successfully unpacked and MD5 sums checked\n",
      "package 'vctrs' successfully unpacked and MD5 sums checked\n"
     ]
    },
    {
     "name": "stderr",
     "output_type": "stream",
     "text": [
      "Warning message:\n",
      "\"cannot remove prior installation of package 'vctrs'\"Warning message in file.copy(savedcopy, lib, recursive = TRUE):\n",
      "\"problem copying C:\\Users\\Abdullah\\R\\win-library\\3.6\\00LOCK\\vctrs\\libs\\x64\\vctrs.dll to C:\\Users\\Abdullah\\R\\win-library\\3.6\\vctrs\\libs\\x64\\vctrs.dll: Permission denied\"Warning message:\n",
      "\"restored 'vctrs'\""
     ]
    },
    {
     "name": "stdout",
     "output_type": "stream",
     "text": [
      "package 'R.cache' successfully unpacked and MD5 sums checked\n",
      "package 'rematch2' successfully unpacked and MD5 sums checked\n",
      "package 'haven' successfully unpacked and MD5 sums checked\n"
     ]
    },
    {
     "name": "stderr",
     "output_type": "stream",
     "text": [
      "Warning message:\n",
      "\"cannot remove prior installation of package 'haven'\"Warning message in file.copy(savedcopy, lib, recursive = TRUE):\n",
      "\"problem copying C:\\Users\\Abdullah\\R\\win-library\\3.6\\00LOCK\\haven\\libs\\x64\\haven.dll to C:\\Users\\Abdullah\\R\\win-library\\3.6\\haven\\libs\\x64\\haven.dll: Permission denied\"Warning message:\n",
      "\"restored 'haven'\""
     ]
    },
    {
     "name": "stdout",
     "output_type": "stream",
     "text": [
      "package 'styler' successfully unpacked and MD5 sums checked\n",
      "package 'classInt' successfully unpacked and MD5 sums checked\n",
      "package 'labelled' successfully unpacked and MD5 sums checked\n",
      "package 'combinat' successfully unpacked and MD5 sums checked\n",
      "package 'questionr' successfully unpacked and MD5 sums checked\n",
      "package 'klaR' successfully unpacked and MD5 sums checked\n",
      "\n",
      "The downloaded binary packages are in\n",
      "\tC:\\Users\\Abdullah\\AppData\\Local\\Temp\\RtmpErBKyb\\downloaded_packages\n"
     ]
    },
    {
     "name": "stderr",
     "output_type": "stream",
     "text": [
      "Installing package into 'C:/Users/Abdullah/R/win-library/3.6'\n",
      "(as 'lib' is unspecified)\n"
     ]
    },
    {
     "name": "stdout",
     "output_type": "stream",
     "text": [
      "package 'rattle.data' successfully unpacked and MD5 sums checked\n",
      "\n",
      "The downloaded binary packages are in\n",
      "\tC:\\Users\\Abdullah\\AppData\\Local\\Temp\\RtmpErBKyb\\downloaded_packages\n"
     ]
    }
   ],
   "source": [
    "install.packages(\"MASS\")\n",
    "install.packages(\"car\")\n",
    "install.packages(\"caret\")\n",
    "install.packages(\"klaR\")\n",
    "install.packages(\"rattle.data\")"
   ]
  },
  {
   "cell_type": "code",
   "execution_count": 21,
   "metadata": {},
   "outputs": [
    {
     "name": "stderr",
     "output_type": "stream",
     "text": [
      "Warning message:\n",
      "\"package 'MASS' was built under R version 3.6.3\"Warning message:\n",
      "\"package 'car' was built under R version 3.6.3\"Loading required package: carData\n"
     ]
    },
    {
     "ename": "ERROR",
     "evalue": "Error in value[[3L]](cond): Package 'car' version 3.0.8 cannot be unloaded:\n Error in unloadNamespace(package) : namespace 'car' is imported by 'rstatix' so cannot be unloaded\n\n",
     "output_type": "error",
     "traceback": [
      "Error in value[[3L]](cond): Package 'car' version 3.0.8 cannot be unloaded:\n Error in unloadNamespace(package) : namespace 'car' is imported by 'rstatix' so cannot be unloaded\n\nTraceback:\n",
      "1. library(car)",
      "2. tryCatch(unloadNamespace(package), error = function(e) {\n .     P <- if (!is.null(cc <- conditionCall(e))) \n .         paste(\"Error in\", deparse(cc)[1L], \": \")\n .     else \"Error : \"\n .     stop(gettextf(\"Package %s version %s cannot be unloaded:\\n %s\", \n .         sQuote(package), oldversion, paste0(P, conditionMessage(e), \n .             \"\\n\")), domain = NA)\n . })",
      "3. tryCatchList(expr, classes, parentenv, handlers)",
      "4. tryCatchOne(expr, names, parentenv, handlers[[1L]])",
      "5. value[[3L]](cond)",
      "6. stop(gettextf(\"Package %s version %s cannot be unloaded:\\n %s\", \n .     sQuote(package), oldversion, paste0(P, conditionMessage(e), \n .         \"\\n\")), domain = NA)"
     ]
    }
   ],
   "source": [
    "library(MASS)\n",
    "library(car)"
   ]
  },
  {
   "cell_type": "code",
   "execution_count": 23,
   "metadata": {},
   "outputs": [
    {
     "data": {
      "text/plain": [
       "Call:\n",
       "lda(Type ~ ., data = wine)\n",
       "\n",
       "Prior probabilities of groups:\n",
       "        1         2         3 \n",
       "0.3276836 0.4011299 0.2711864 \n",
       "\n",
       "Group means:\n",
       "   Alcohol    Malic      Ash Alcalinity Magnesium  Phenols Flavanoids\n",
       "1 13.73638 2.015862 2.456034   17.06207  105.9828 2.840862  2.9810345\n",
       "2 12.27873 1.932676 2.244789   20.23803   94.5493 2.258873  2.0808451\n",
       "3 13.15375 3.333750 2.437083   21.41667   99.3125 1.678750  0.7814583\n",
       "  Nonflavanoids Proanthocyanins    Color       Hue Dilution   Proline\n",
       "1     0.2901724        1.892586 5.526379 1.0624138 3.144655 1116.5862\n",
       "2     0.3636620        1.630282 3.086620 1.0562817 2.785352  519.5070\n",
       "3     0.4475000        1.153542 7.396250 0.6827083 1.683542  629.8958\n",
       "\n",
       "Coefficients of linear discriminants:\n",
       "                         LD1           LD2\n",
       "Alcohol         -0.407338108  0.8718851641\n",
       "Malic            0.171369005  0.3036138673\n",
       "Ash             -0.350833426  2.3433262926\n",
       "Alcalinity       0.155392632 -0.1471841565\n",
       "Magnesium       -0.003023265 -0.0005503898\n",
       "Phenols          0.633363249 -0.0357006981\n",
       "Flavanoids      -1.658806773 -0.4751178427\n",
       "Nonflavanoids   -1.560673918 -1.6200997722\n",
       "Proanthocyanins  0.124497887 -0.3084356285\n",
       "Color            0.355593960  0.2492418348\n",
       "Hue             -0.812672717 -1.5023785169\n",
       "Dilution        -1.191107695  0.0571327716\n",
       "Proline         -0.002639133  0.0028737679\n",
       "\n",
       "Proportion of trace:\n",
       "   LD1    LD2 \n",
       "0.6879 0.3121 "
      ]
     },
     "metadata": {},
     "output_type": "display_data"
    }
   ],
   "source": [
    "wine.lda <- lda(Type ~., data = wine)\n",
    "wine.lda"
   ]
  },
  {
   "cell_type": "code",
   "execution_count": 27,
   "metadata": {},
   "outputs": [
    {
     "ename": "ERROR",
     "evalue": "Error in as.graphicsAnnot(labels): object 'Type' not found\n",
     "output_type": "error",
     "traceback": [
      "Error in as.graphicsAnnot(labels): object 'Type' not found\nTraceback:\n",
      "1. text(wine.lda.values$x[, 1], wine.lda.values$x[, 2], Type, cex = 0.7, \n .     pos = 4, col = \"red\")",
      "2. text.default(wine.lda.values$x[, 1], wine.lda.values$x[, 2], \n .     Type, cex = 0.7, pos = 4, col = \"red\")",
      "3. as.graphicsAnnot(labels)"
     ]
    },
    {
     "data": {
      "image/png": "[encoded data removed]",
      "text/plain": [
       "plot without title"
      ]
     },
     "metadata": {},
     "output_type": "display_data"
    }
   ],
   "source": [
    "plot(wine.lda.values$x[,1], wine.lda.values$x[,2])\n",
    "text(wine.lda.values$x[,1], wine.lda.values$x[,2], Type, cex = 0.7, pos = 4, col = \"red\")"
   ]
  },
  {
   "cell_type": "code",
   "execution_count": 28,
   "metadata": {},
   "outputs": [
    {
     "data": {
      "image/png": "[encoded data removed]",
      "text/plain": [
       "plot without title"
      ]
     },
     "metadata": {},
     "output_type": "display_data"
    }
   ],
   "source": [
    "newdata <- data.frame(type = wine[,1], lda = wine.lda.values$x)\n",
    "library(ggplot2)\n",
    "ggplot(newdata) + geom_point(aes(lda.LD1, lda.LD2, colour = type), size = 2.5)"
   ]
  },
  {
   "cell_type": "code",
   "execution_count": null,
   "metadata": {},
   "outputs": [],
   "source": []
  },
  {
   "cell_type": "code",
   "execution_count": null,
   "metadata": {},
   "outputs": [],
   "source": []
  },
  {
   "cell_type": "code",
   "execution_count": null,
   "metadata": {},
   "outputs": [],
   "source": []
  }
 ],
 "metadata": {
  "kernelspec": {
   "display_name": "R",
   "language": "R",
   "name": "ir"
  },
  "language_info": {
   "codemirror_mode": "r",
   "file_extension": ".r",
   "mimetype": "text/x-r-source",
   "name": "R",
   "pygments_lexer": "r",
   "version": "3.6.1"
  }
 },
 "nbformat": 4,
 "nbformat_minor": 4
}
