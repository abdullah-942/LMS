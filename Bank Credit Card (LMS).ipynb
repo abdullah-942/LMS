{
 "cells": [
  {
   "cell_type": "markdown",
   "metadata": {},
   "source": [
    "# Logistic Regression: Predicting the Defaulters"
   ]
  },
  {
   "cell_type": "code",
   "execution_count": 2,
   "metadata": {},
   "outputs": [],
   "source": [
    "BankData = read.csv(\"D:/Imarticus/BankCreditCard.csv\")"
   ]
  },
  {
   "cell_type": "markdown",
   "metadata": {},
   "source": [
    "### Check the number of rows and columns"
   ]
  },
  {
   "cell_type": "code",
   "execution_count": 3,
   "metadata": {},
   "outputs": [
    {
     "data": {
      "text/html": [
       "30000"
      ],
      "text/latex": [
       "30000"
      ],
      "text/markdown": [
       "30000"
      ],
      "text/plain": [
       "[1] 30000"
      ]
     },
     "metadata": {},
     "output_type": "display_data"
    }
   ],
   "source": [
    "nrow(BankData)"
   ]
  },
  {
   "cell_type": "code",
   "execution_count": 4,
   "metadata": {},
   "outputs": [
    {
     "data": {
      "text/html": [
       "25"
      ],
      "text/latex": [
       "25"
      ],
      "text/markdown": [
       "25"
      ],
      "text/plain": [
       "[1] 25"
      ]
     },
     "metadata": {},
     "output_type": "display_data"
    }
   ],
   "source": [
    "ncol(BankData)"
   ]
  },
  {
   "cell_type": "code",
   "execution_count": 5,
   "metadata": {},
   "outputs": [
    {
     "data": {
      "text/html": [
       "<ol class=list-inline>\n",
       "\t<li>'Customer.ID'</li>\n",
       "\t<li>'Credit_Amount'</li>\n",
       "\t<li>'Gender'</li>\n",
       "\t<li>'Academic_Qualification'</li>\n",
       "\t<li>'Marital'</li>\n",
       "\t<li>'Age_Years'</li>\n",
       "\t<li>'Repayment_Status_Jan'</li>\n",
       "\t<li>'Repayment_Status_Feb'</li>\n",
       "\t<li>'Repayment_Status_March'</li>\n",
       "\t<li>'Repayment_Status_April'</li>\n",
       "\t<li>'Repayment_Status_May'</li>\n",
       "\t<li>'Repayment_Status_June'</li>\n",
       "\t<li>'Jan_Bill_Amount'</li>\n",
       "\t<li>'Feb_Bill_Amount'</li>\n",
       "\t<li>'March_Bill_Amount'</li>\n",
       "\t<li>'April_Bill_Amount'</li>\n",
       "\t<li>'May_Bill_Amount'</li>\n",
       "\t<li>'June_Bill_Amount'</li>\n",
       "\t<li>'Previous_Payment_Jan'</li>\n",
       "\t<li>'Previous_Payment_Feb'</li>\n",
       "\t<li>'Previous_Payment_March'</li>\n",
       "\t<li>'Previous_Payment_April'</li>\n",
       "\t<li>'Previous_Payment_May'</li>\n",
       "\t<li>'Previous_Payment_June'</li>\n",
       "\t<li>'Default_Payment'</li>\n",
       "</ol>\n"
      ],
      "text/latex": [
       "\\begin{enumerate*}\n",
       "\\item 'Customer.ID'\n",
       "\\item 'Credit\\_Amount'\n",
       "\\item 'Gender'\n",
       "\\item 'Academic\\_Qualification'\n",
       "\\item 'Marital'\n",
       "\\item 'Age\\_Years'\n",
       "\\item 'Repayment\\_Status\\_Jan'\n",
       "\\item 'Repayment\\_Status\\_Feb'\n",
       "\\item 'Repayment\\_Status\\_March'\n",
       "\\item 'Repayment\\_Status\\_April'\n",
       "\\item 'Repayment\\_Status\\_May'\n",
       "\\item 'Repayment\\_Status\\_June'\n",
       "\\item 'Jan\\_Bill\\_Amount'\n",
       "\\item 'Feb\\_Bill\\_Amount'\n",
       "\\item 'March\\_Bill\\_Amount'\n",
       "\\item 'April\\_Bill\\_Amount'\n",
       "\\item 'May\\_Bill\\_Amount'\n",
       "\\item 'June\\_Bill\\_Amount'\n",
       "\\item 'Previous\\_Payment\\_Jan'\n",
       "\\item 'Previous\\_Payment\\_Feb'\n",
       "\\item 'Previous\\_Payment\\_March'\n",
       "\\item 'Previous\\_Payment\\_April'\n",
       "\\item 'Previous\\_Payment\\_May'\n",
       "\\item 'Previous\\_Payment\\_June'\n",
       "\\item 'Default\\_Payment'\n",
       "\\end{enumerate*}\n"
      ],
      "text/markdown": [
       "1. 'Customer.ID'\n",
       "2. 'Credit_Amount'\n",
       "3. 'Gender'\n",
       "4. 'Academic_Qualification'\n",
       "5. 'Marital'\n",
       "6. 'Age_Years'\n",
       "7. 'Repayment_Status_Jan'\n",
       "8. 'Repayment_Status_Feb'\n",
       "9. 'Repayment_Status_March'\n",
       "10. 'Repayment_Status_April'\n",
       "11. 'Repayment_Status_May'\n",
       "12. 'Repayment_Status_June'\n",
       "13. 'Jan_Bill_Amount'\n",
       "14. 'Feb_Bill_Amount'\n",
       "15. 'March_Bill_Amount'\n",
       "16. 'April_Bill_Amount'\n",
       "17. 'May_Bill_Amount'\n",
       "18. 'June_Bill_Amount'\n",
       "19. 'Previous_Payment_Jan'\n",
       "20. 'Previous_Payment_Feb'\n",
       "21. 'Previous_Payment_March'\n",
       "22. 'Previous_Payment_April'\n",
       "23. 'Previous_Payment_May'\n",
       "24. 'Previous_Payment_June'\n",
       "25. 'Default_Payment'\n",
       "\n",
       "\n"
      ],
      "text/plain": [
       " [1] \"Customer.ID\"            \"Credit_Amount\"          \"Gender\"                \n",
       " [4] \"Academic_Qualification\" \"Marital\"                \"Age_Years\"             \n",
       " [7] \"Repayment_Status_Jan\"   \"Repayment_Status_Feb\"   \"Repayment_Status_March\"\n",
       "[10] \"Repayment_Status_April\" \"Repayment_Status_May\"   \"Repayment_Status_June\" \n",
       "[13] \"Jan_Bill_Amount\"        \"Feb_Bill_Amount\"        \"March_Bill_Amount\"     \n",
       "[16] \"April_Bill_Amount\"      \"May_Bill_Amount\"        \"June_Bill_Amount\"      \n",
       "[19] \"Previous_Payment_Jan\"   \"Previous_Payment_Feb\"   \"Previous_Payment_March\"\n",
       "[22] \"Previous_Payment_April\" \"Previous_Payment_May\"   \"Previous_Payment_June\" \n",
       "[25] \"Default_Payment\"       "
      ]
     },
     "metadata": {},
     "output_type": "display_data"
    }
   ],
   "source": [
    "colnames(BankData)"
   ]
  },
  {
   "cell_type": "markdown",
   "metadata": {},
   "source": [
    "### Describing the dataset\n"
   ]
  },
  {
   "cell_type": "code",
   "execution_count": 6,
   "metadata": {},
   "outputs": [
    {
     "name": "stdout",
     "output_type": "stream",
     "text": [
      "'data.frame':\t30000 obs. of  25 variables:\n",
      " $ Customer.ID           : int  1 2 3 4 5 6 7 8 9 10 ...\n",
      " $ Credit_Amount         : num  20000 220000 90000 50000 50000 50000 500000 200000 240000 20000 ...\n",
      " $ Gender                : int  2 2 2 2 1 1 1 2 2 1 ...\n",
      " $ Academic_Qualification: int  2 2 2 2 2 1 1 2 3 3 ...\n",
      " $ Marital               : int  1 2 2 1 1 2 2 2 1 2 ...\n",
      " $ Age_Years             : int  24 26 34 37 57 37 29 23 28 35 ...\n",
      " $ Repayment_Status_Jan  : int  2 0 0 0 0 0 0 0 0 0 ...\n",
      " $ Repayment_Status_Feb  : int  2 2 0 0 0 0 0 0 0 0 ...\n",
      " $ Repayment_Status_March: int  0 0 0 0 0 0 0 0 2 0 ...\n",
      " $ Repayment_Status_April: int  0 0 0 0 0 0 0 0 0 0 ...\n",
      " $ Repayment_Status_May  : int  0 0 0 0 0 0 0 0 0 0 ...\n",
      " $ Repayment_Status_June : int  0 2 0 0 0 0 0 0 0 0 ...\n",
      " $ Jan_Bill_Amount       : num  3933 3683 39339 46990 8637 ...\n",
      " $ Feb_Bill_Amount       : num  3103 1735 14037 48333 5570 ...\n",
      " $ March_Bill_Amount     : num  689 2682 23559 49292 35835 ...\n",
      " $ April_Bill_Amount     : num  0 3272 24332 29324 20940 ...\n",
      " $ May_Bill_Amount       : num  0 3455 14848 28858 18146 ...\n",
      " $ June_Bill_Amount      : num  0 3261 15548 28547 18131 ...\n",
      " $ Previous_Payment_Jan  : num  0 0 1619 3000 3000 ...\n",
      " $ Previous_Payment_Feb  : num  679 2000 2500 2029 36672 ...\n",
      " $ Previous_Payment_March: num  0 1000 1000 1200 10000 657 59000 0 552 0 ...\n",
      " $ Previous_Payment_April: num  0 1000 1000 1100 9000 ...\n",
      " $ Previous_Payment_May  : num  0 0 1000 1069 689 ...\n",
      " $ Previous_Payment_June : num  0 2000 5000 1000 679 ...\n",
      " $ Default_Payment       : int  1 1 0 0 0 0 0 0 0 0 ...\n"
     ]
    }
   ],
   "source": [
    "str(BankData)"
   ]
  },
  {
   "cell_type": "markdown",
   "metadata": {},
   "source": [
    "### Check Class Bias (Imbalanced Classification Problems)"
   ]
  },
  {
   "cell_type": "code",
   "execution_count": 7,
   "metadata": {},
   "outputs": [
    {
     "data": {
      "text/plain": [
       "\n",
       "    0     1 \n",
       "23364  6636 "
      ]
     },
     "metadata": {},
     "output_type": "display_data"
    }
   ],
   "source": [
    "table(BankData$Default_Payment)"
   ]
  },
  {
   "cell_type": "markdown",
   "metadata": {},
   "source": [
    "### Clearly there is a class bias, a condition observed when the proporion of events is much smaller than propertion of non-events. So we must sample the observations in approximately equal proportions to get better models"
   ]
  },
  {
   "cell_type": "markdown",
   "metadata": {},
   "source": [
    "### Converting columns to factors according to data description"
   ]
  },
  {
   "cell_type": "code",
   "execution_count": 8,
   "metadata": {},
   "outputs": [],
   "source": [
    "cols.to.factors = c(\"Gender\",\"Academic_Qualification\",\"Marital\",\"Repayment_Status_Jan\",\"Repayment_Status_Feb\",\"Repayment_Status_March\",\"Repayment_Status_April\",\"Repayment_Status_May\",\"Repayment_Status_June\",\"Default_Payment\")"
   ]
  },
  {
   "cell_type": "code",
   "execution_count": 9,
   "metadata": {},
   "outputs": [],
   "source": [
    "BankData[cols.to.factors] = lapply(BankData[cols.to.factors], factor)"
   ]
  },
  {
   "cell_type": "code",
   "execution_count": 10,
   "metadata": {},
   "outputs": [
    {
     "name": "stdout",
     "output_type": "stream",
     "text": [
      "'data.frame':\t30000 obs. of  25 variables:\n",
      " $ Customer.ID           : int  1 2 3 4 5 6 7 8 9 10 ...\n",
      " $ Credit_Amount         : num  20000 220000 90000 50000 50000 50000 500000 200000 240000 20000 ...\n",
      " $ Gender                : Factor w/ 2 levels \"1\",\"2\": 2 2 2 2 1 1 1 2 2 1 ...\n",
      " $ Academic_Qualification: Factor w/ 6 levels \"1\",\"2\",\"3\",\"4\",..: 2 2 2 2 2 1 1 2 3 3 ...\n",
      " $ Marital               : Factor w/ 4 levels \"0\",\"1\",\"2\",\"3\": 2 3 3 2 2 3 3 3 2 3 ...\n",
      " $ Age_Years             : int  24 26 34 37 57 37 29 23 28 35 ...\n",
      " $ Repayment_Status_Jan  : Factor w/ 7 levels \"0\",\"1\",\"2\",\"3\",..: 3 1 1 1 1 1 1 1 1 1 ...\n",
      " $ Repayment_Status_Feb  : Factor w/ 7 levels \"0\",\"1\",\"2\",\"3\",..: 3 3 1 1 1 1 1 1 1 1 ...\n",
      " $ Repayment_Status_March: Factor w/ 7 levels \"0\",\"1\",\"2\",\"3\",..: 1 1 1 1 1 1 1 1 3 1 ...\n",
      " $ Repayment_Status_April: Factor w/ 7 levels \"0\",\"1\",\"2\",\"3\",..: 1 1 1 1 1 1 1 1 1 1 ...\n",
      " $ Repayment_Status_May  : Factor w/ 6 levels \"0\",\"2\",\"3\",\"4\",..: 1 1 1 1 1 1 1 1 1 1 ...\n",
      " $ Repayment_Status_June : Factor w/ 6 levels \"0\",\"2\",\"3\",\"4\",..: 1 2 1 1 1 1 1 1 1 1 ...\n",
      " $ Jan_Bill_Amount       : num  3933 3683 39339 46990 8637 ...\n",
      " $ Feb_Bill_Amount       : num  3103 1735 14037 48333 5570 ...\n",
      " $ March_Bill_Amount     : num  689 2682 23559 49292 35835 ...\n",
      " $ April_Bill_Amount     : num  0 3272 24332 29324 20940 ...\n",
      " $ May_Bill_Amount       : num  0 3455 14848 28858 18146 ...\n",
      " $ June_Bill_Amount      : num  0 3261 15548 28547 18131 ...\n",
      " $ Previous_Payment_Jan  : num  0 0 1619 3000 3000 ...\n",
      " $ Previous_Payment_Feb  : num  679 2000 2500 2029 36672 ...\n",
      " $ Previous_Payment_March: num  0 1000 1000 1200 10000 657 59000 0 552 0 ...\n",
      " $ Previous_Payment_April: num  0 1000 1000 1100 9000 ...\n",
      " $ Previous_Payment_May  : num  0 0 1000 1069 689 ...\n",
      " $ Previous_Payment_June : num  0 2000 5000 1000 679 ...\n",
      " $ Default_Payment       : Factor w/ 2 levels \"0\",\"1\": 2 2 1 1 1 1 1 1 1 1 ...\n"
     ]
    }
   ],
   "source": [
    "str(BankData)"
   ]
  },
  {
   "cell_type": "code",
   "execution_count": 11,
   "metadata": {},
   "outputs": [
    {
     "data": {
      "text/plain": [
       "  Customer.ID    Credit_Amount     Gender    Academic_Qualification Marital  \n",
       " Min.   :    1   Min.   :  20000   1:11888   1:10585                0:   54  \n",
       " 1st Qu.: 7501   1st Qu.:  50000   2:18112   2:14030                1:13659  \n",
       " Median :15000   Median : 220000             3: 4917                2:15964  \n",
       " Mean   :15000   Mean   : 192917             4:  123                3:  323  \n",
       " 3rd Qu.:22500   3rd Qu.: 270000             5:  280                         \n",
       " Max.   :30000   Max.   :2000000             6:   65                         \n",
       "                                                                             \n",
       "   Age_Years     Repayment_Status_Jan Repayment_Status_Feb\n",
       " Min.   :21.00   0:23182              0:25562             \n",
       " 1st Qu.:28.00   1: 3688              1:   28             \n",
       " Median :34.00   2: 2667              2: 3927             \n",
       " Mean   :35.49   3:  322              3:  326             \n",
       " 3rd Qu.:41.00   4:   76              4:   99             \n",
       " Max.   :79.00   5:   26              5:   25             \n",
       "                 6:   39              6:   33             \n",
       " Repayment_Status_March Repayment_Status_April Repayment_Status_May\n",
       " 0:25787                0:26490                0:27032             \n",
       " 1:    4                1:    2                2: 2626             \n",
       " 2: 3819                2: 3159                3:  178             \n",
       " 3:  240                3:  180                4:   84             \n",
       " 4:   76                4:   69                5:   17             \n",
       " 5:   21                5:   35                6:   63             \n",
       " 6:   53                6:   65                                    \n",
       " Repayment_Status_June Jan_Bill_Amount   Feb_Bill_Amount  March_Bill_Amount\n",
       " 0:26921               Min.   :-365580   Min.   :-58777   Min.   :-257264  \n",
       " 2: 2766               1st Qu.:   3890   1st Qu.:  3517   1st Qu.:   2876  \n",
       " 3:  184               Median :  35662   Median : 30538   Median :  26568  \n",
       " 4:   49               Mean   :  81581   Mean   : 52517   Mean   :  59004  \n",
       " 5:   13               3rd Qu.:  67091   3rd Qu.: 57421   3rd Qu.:  60253  \n",
       " 6:   67               Max.   : 964533   Max.   :883831   Max.   :2664089  \n",
       "                                                                           \n",
       " April_Bill_Amount May_Bill_Amount  June_Bill_Amount  Previous_Payment_Jan\n",
       " Min.   :-270000   Min.   :-81334   Min.   :-338603   Min.   :     0      \n",
       " 1st Qu.:   2672   1st Qu.:  1763   1st Qu.:   1256   1st Qu.:  1000      \n",
       " Median :  25629   Median : 18043   Median :  17071   Median :  3000      \n",
       " Mean   :  55122   Mean   : 39940   Mean   :  38506   Mean   :  6286      \n",
       " 3rd Qu.:  54509   3rd Qu.: 50191   3rd Qu.:  48655   3rd Qu.:  6000      \n",
       " Max.   : 992596   Max.   :827171   Max.   : 861664   Max.   :973663      \n",
       "                                                                          \n",
       " Previous_Payment_Feb Previous_Payment_March Previous_Payment_April\n",
       " Min.   :      0      Min.   :     0         Min.   :     0        \n",
       " 1st Qu.:    770      1st Qu.:   550         1st Qu.:   333        \n",
       " Median :   2542      Median :  1900         Median :  1500        \n",
       " Mean   :   7466      Mean   :  5836         Mean   :  5128        \n",
       " 3rd Qu.:   5000      3rd Qu.:  5500         3rd Qu.:  4013        \n",
       " Max.   :2674259      Max.   :999055         Max.   :538897        \n",
       "                                                                   \n",
       " Previous_Payment_May Previous_Payment_June Default_Payment\n",
       " Min.   :     0       Min.   :     0.0      0:23364        \n",
       " 1st Qu.:   310       1st Qu.:   117.8      1: 6636        \n",
       " Median :  1539       Median :  1500.0                     \n",
       " Mean   :  5261       Mean   :  5215.5                     \n",
       " 3rd Qu.:  5000       3rd Qu.:  4000.0                     \n",
       " Max.   :536539       Max.   :528666.0                     \n",
       "                                                           "
      ]
     },
     "metadata": {},
     "output_type": "display_data"
    }
   ],
   "source": [
    "summary(BankData)"
   ]
  },
  {
   "cell_type": "markdown",
   "metadata": {},
   "source": [
    "### Check for missing values"
   ]
  },
  {
   "cell_type": "code",
   "execution_count": 12,
   "metadata": {},
   "outputs": [],
   "source": [
    "col_name = colnames(BankData)[apply(BankData, 2, function(n) any(is.na(n)))]"
   ]
  },
  {
   "cell_type": "code",
   "execution_count": 13,
   "metadata": {},
   "outputs": [
    {
     "name": "stdout",
     "output_type": "stream",
     "text": [
      "[1] \"No Nulls\"\n"
     ]
    }
   ],
   "source": [
    "if(length(col_name) > 0) print(\"Nulls present\") else print(\"No Nulls\")"
   ]
  },
  {
   "cell_type": "code",
   "execution_count": 14,
   "metadata": {},
   "outputs": [
    {
     "name": "stdout",
     "output_type": "stream",
     "text": [
      "[1] \"No Blanks\"\n"
     ]
    }
   ],
   "source": [
    "col_name = colnames(BankData)[apply(BankData,2,function(n)any(n ==\"\"))] \n",
    "if(length(col_name)>0)print(\"Blanks present\")else print(\"No Blanks\")"
   ]
  },
  {
   "cell_type": "markdown",
   "metadata": {},
   "source": [
    "### Level Encoding"
   ]
  },
  {
   "cell_type": "code",
   "execution_count": 15,
   "metadata": {},
   "outputs": [],
   "source": [
    "levels(BankData$Gender)[levels(BankData$Gender) == \"1\"]= \"Male\" \n",
    "levels(BankData$Gender)[levels(BankData$Gender) == \"2\"]=\"Female\" "
   ]
  },
  {
   "cell_type": "code",
   "execution_count": 16,
   "metadata": {},
   "outputs": [
    {
     "name": "stdout",
     "output_type": "stream",
     "text": [
      " Factor w/ 2 levels \"Male\",\"Female\": 2 2 2 2 1 1 1 2 2 1 ...\n"
     ]
    }
   ],
   "source": [
    "str(BankData$Gender)"
   ]
  },
  {
   "cell_type": "code",
   "execution_count": 17,
   "metadata": {},
   "outputs": [],
   "source": [
    "levels(BankData$Academic_Qualification)[levels(BankData$Academic_Qualification) == \"1\"] = \"Undergraduate\" \n",
    "levels(BankData$Academic_Qualification)[levels(BankData$Academic_Qualification) == \"2\"] = \"Graduate\" \n",
    "levels(BankData$Academic_Qualification)[levels(BankData$Academic_Qualification) == \"3\"] = \"Postgraduate\" \n",
    "levels(BankData$Academic_Qualification)[levels(BankData$Academic_Qualification) == \"4\"] = \"Professional\" \n",
    "levels(BankData$Academic_Qualification)[levels(BankData$Academic_Qualification) == \"5\"] = \"Others\" \n",
    "levels(BankData$Academic_Qualification)[levels(BankData$Academic_Qualification) == \"6\"] = \"Unknown\""
   ]
  },
  {
   "cell_type": "code",
   "execution_count": 18,
   "metadata": {},
   "outputs": [
    {
     "name": "stdout",
     "output_type": "stream",
     "text": [
      " Factor w/ 6 levels \"Undergraduate\",..: 2 2 2 2 2 1 1 2 3 3 ...\n"
     ]
    }
   ],
   "source": [
    "str(BankData$Academic_Qualification)"
   ]
  },
  {
   "cell_type": "markdown",
   "metadata": {},
   "source": [
    "### Randomly shuffling the dataset\n"
   ]
  },
  {
   "cell_type": "code",
   "execution_count": 19,
   "metadata": {},
   "outputs": [],
   "source": [
    "grp = runif(nrow(BankData)) \n",
    "BankData = BankData[order(grp),]"
   ]
  },
  {
   "cell_type": "markdown",
   "metadata": {},
   "source": [
    "### Create train and test samples"
   ]
  },
  {
   "cell_type": "code",
   "execution_count": 20,
   "metadata": {},
   "outputs": [
    {
     "name": "stderr",
     "output_type": "stream",
     "text": [
      "Warning message:\n",
      "\"package 'caret' was built under R version 3.6.3\"Loading required package: lattice\n",
      "Loading required package: ggplot2\n",
      "Warning message:\n",
      "\"package 'ggplot2' was built under R version 3.6.3\""
     ]
    }
   ],
   "source": [
    "library(caret) \n",
    "library(ggplot2)"
   ]
  },
  {
   "cell_type": "code",
   "execution_count": 22,
   "metadata": {},
   "outputs": [
    {
     "data": {
      "text/plain": [
       "\n",
       "        0         1 \n",
       "0.7787724 0.2212276 "
      ]
     },
     "metadata": {},
     "output_type": "display_data"
    }
   ],
   "source": [
    "train.rows = createDataPartition(y=BankData$Default_Payment,p=0.7,list = FALSE) \n",
    "train.data = BankData[train.rows,] \n",
    "#70% data goes here table(train.data$Default_Payment)\n",
    "\n",
    "table(train.data$Default_Payment)/length(train.data$Default_Payment)"
   ]
  },
  {
   "cell_type": "code",
   "execution_count": 23,
   "metadata": {},
   "outputs": [
    {
     "data": {
      "text/plain": [
       "\n",
       "        0         1 \n",
       "0.7788024 0.2211976 "
      ]
     },
     "metadata": {},
     "output_type": "display_data"
    }
   ],
   "source": [
    "test.rows = createDataPartition(y=BankData$Default_Payment,p=0.3,list = FALSE) \n",
    "test.data = BankData[test.rows,] \n",
    "\n",
    "#30% data goes here table(test.data$Default_Payment)\n",
    "\n",
    "table(test.data$Default_Payment)/length(test.data$Default_Payment)\n"
   ]
  },
  {
   "cell_type": "code",
   "execution_count": 24,
   "metadata": {},
   "outputs": [
    {
     "data": {
      "text/html": [
       "21001"
      ],
      "text/latex": [
       "21001"
      ],
      "text/markdown": [
       "21001"
      ],
      "text/plain": [
       "[1] 21001"
      ]
     },
     "metadata": {},
     "output_type": "display_data"
    },
    {
     "data": {
      "text/html": [
       "9001"
      ],
      "text/latex": [
       "9001"
      ],
      "text/markdown": [
       "9001"
      ],
      "text/plain": [
       "[1] 9001"
      ]
     },
     "metadata": {},
     "output_type": "display_data"
    }
   ],
   "source": [
    "nrow(train.data) \n",
    "nrow(test.data)"
   ]
  },
  {
   "cell_type": "markdown",
   "metadata": {},
   "source": [
    "### Build the Logistic regression model"
   ]
  },
  {
   "cell_type": "code",
   "execution_count": 25,
   "metadata": {},
   "outputs": [],
   "source": [
    "glm_full_model = glm(Default_Payment ~ ., family = \"binomial\",data = train.data )"
   ]
  },
  {
   "cell_type": "code",
   "execution_count": 26,
   "metadata": {},
   "outputs": [
    {
     "data": {
      "text/plain": [
       "\n",
       "Call:\n",
       "glm(formula = Default_Payment ~ ., family = \"binomial\", data = train.data)\n",
       "\n",
       "Deviance Residuals: \n",
       "    Min       1Q   Median       3Q      Max  \n",
       "-2.2616  -0.6031  -0.5165  -0.3408   3.3025  \n",
       "\n",
       "Coefficients:\n",
       "                                     Estimate Std. Error z value Pr(>|z|)    \n",
       "(Intercept)                        -3.432e+00  6.692e-01  -5.128 2.93e-07 ***\n",
       "Customer.ID                        -1.925e-07  2.182e-06  -0.088 0.929700    \n",
       "Credit_Amount                      -1.343e-06  1.776e-07  -7.562 3.98e-14 ***\n",
       "GenderFemale                       -1.468e-01  3.835e-02  -3.828 0.000129 ***\n",
       "Academic_QualificationGraduate     -3.946e-02  4.420e-02  -0.893 0.371909    \n",
       "Academic_QualificationPostgraduate -6.529e-02  5.906e-02  -1.106 0.268936    \n",
       "Academic_QualificationProfessional -9.892e-01  4.323e-01  -2.288 0.022136 *  \n",
       "Academic_QualificationOthers       -1.175e+00  2.877e-01  -4.085 4.41e-05 ***\n",
       "Academic_QualificationUnknown      -7.848e-01  5.040e-01  -1.557 0.119462    \n",
       "Marital1                            1.944e+00  6.616e-01   2.939 0.003293 ** \n",
       "Marital2                            1.769e+00  6.616e-01   2.673 0.007515 ** \n",
       "Marital3                            1.896e+00  6.827e-01   2.777 0.005486 ** \n",
       "Age_Years                           5.531e-03  2.323e-03   2.381 0.017288 *  \n",
       "Repayment_Status_Jan1               7.343e-01  5.979e-02  12.280  < 2e-16 ***\n",
       "Repayment_Status_Jan2               2.041e+00  6.625e-02  30.802  < 2e-16 ***\n",
       "Repayment_Status_Jan3               1.977e+00  1.763e-01  11.215  < 2e-16 ***\n",
       "Repayment_Status_Jan4               1.558e+00  3.338e-01   4.668 3.04e-06 ***\n",
       "Repayment_Status_Jan5               1.198e+00  5.729e-01   2.092 0.036464 *  \n",
       "Repayment_Status_Jan6               8.037e-01  9.133e-01   0.880 0.378868    \n",
       "Repayment_Status_Feb1              -5.222e-01  6.518e-01  -0.801 0.423015    \n",
       "Repayment_Status_Feb2               2.436e-01  7.172e-02   3.397 0.000682 ***\n",
       "Repayment_Status_Feb3               2.094e-01  1.761e-01   1.189 0.234439    \n",
       "Repayment_Status_Feb4              -5.950e-01  3.633e-01  -1.638 0.101447    \n",
       "Repayment_Status_Feb5               1.071e+00  8.115e-01   1.320 0.186991    \n",
       "Repayment_Status_Feb6               1.505e+00  1.146e+00   1.314 0.189000    \n",
       "Repayment_Status_March1            -1.103e+01  2.289e+02  -0.048 0.961557    \n",
       "Repayment_Status_March2             2.868e-01  7.146e-02   4.013 5.99e-05 ***\n",
       "Repayment_Status_March3             5.592e-01  2.297e-01   2.435 0.014899 *  \n",
       "Repayment_Status_March4            -3.740e-02  4.901e-01  -0.076 0.939171    \n",
       "Repayment_Status_March5            -8.601e-01  7.869e-01  -1.093 0.274361    \n",
       "Repayment_Status_March6             6.869e-01  7.516e-01   0.914 0.360810    \n",
       "Repayment_Status_April1             1.276e+01  2.289e+02   0.056 0.955558    \n",
       "Repayment_Status_April2             1.899e-01  7.872e-02   2.413 0.015842 *  \n",
       "Repayment_Status_April3             7.127e-02  2.605e-01   0.274 0.784415    \n",
       "Repayment_Status_April4             2.662e-01  5.469e-01   0.487 0.626468    \n",
       "Repayment_Status_April5            -1.322e+00  7.840e-01  -1.686 0.091814 .  \n",
       "Repayment_Status_April6            -1.482e+01  1.384e+02  -0.107 0.914761    \n",
       "Repayment_Status_May2               2.720e-01  8.661e-02   3.140 0.001688 ** \n",
       "Repayment_Status_May3              -9.434e-02  2.616e-01  -0.361 0.718420    \n",
       "Repayment_Status_May4              -1.605e-01  5.191e-01  -0.309 0.757242    \n",
       "Repayment_Status_May5               1.568e+00  9.703e-01   1.616 0.106087    \n",
       "Repayment_Status_May6               1.406e+01  1.385e+02   0.102 0.919093    \n",
       "Repayment_Status_June2              2.838e-01  7.613e-02   3.728 0.000193 ***\n",
       "Repayment_Status_June3              1.004e+00  2.582e-01   3.890 0.000100 ***\n",
       "Repayment_Status_June4              3.209e-01  5.358e-01   0.599 0.549232    \n",
       "Repayment_Status_June5             -3.412e-01  8.141e-01  -0.419 0.675152    \n",
       "Repayment_Status_June6              1.274e+00  1.014e+00   1.256 0.208968    \n",
       "Jan_Bill_Amount                    -1.067e-06  4.223e-07  -2.527 0.011492 *  \n",
       "Feb_Bill_Amount                     2.032e-06  6.420e-07   3.165 0.001548 ** \n",
       "March_Bill_Amount                   9.577e-07  9.101e-07   1.052 0.292649    \n",
       "April_Bill_Amount                  -8.638e-07  9.152e-07  -0.944 0.345281    \n",
       "May_Bill_Amount                     1.118e-06  1.632e-06   0.685 0.493454    \n",
       "June_Bill_Amount                   -1.405e-06  1.395e-06  -1.008 0.313670    \n",
       "Previous_Payment_Jan               -9.649e-06  2.201e-06  -4.385 1.16e-05 ***\n",
       "Previous_Payment_Feb               -5.569e-06  1.664e-06  -3.347 0.000816 ***\n",
       "Previous_Payment_March             -2.688e-06  1.843e-06  -1.458 0.144802    \n",
       "Previous_Payment_April             -2.920e-06  1.901e-06  -1.536 0.124494    \n",
       "Previous_Payment_May               -1.505e-06  1.776e-06  -0.847 0.396793    \n",
       "Previous_Payment_June              -1.603e-06  1.488e-06  -1.078 0.281158    \n",
       "---\n",
       "Signif. codes:  0 '***' 0.001 '**' 0.01 '*' 0.05 '.' 0.1 ' ' 1\n",
       "\n",
       "(Dispersion parameter for binomial family taken to be 1)\n",
       "\n",
       "    Null deviance: 22196  on 21000  degrees of freedom\n",
       "Residual deviance: 18399  on 20942  degrees of freedom\n",
       "AIC: 18517\n",
       "\n",
       "Number of Fisher Scoring iterations: 11\n"
      ]
     },
     "metadata": {},
     "output_type": "display_data"
    }
   ],
   "source": [
    "summary(glm_full_model)"
   ]
  },
  {
   "cell_type": "markdown",
   "metadata": {},
   "source": [
    "## Predicting probabilities obtained from the model"
   ]
  },
  {
   "cell_type": "markdown",
   "metadata": {},
   "source": [
    "### Predict the Y-values"
   ]
  },
  {
   "cell_type": "code",
   "execution_count": 27,
   "metadata": {},
   "outputs": [],
   "source": [
    "predict_full_model = predict(glm_full_model,test.data,type = \"response\")"
   ]
  },
  {
   "cell_type": "markdown",
   "metadata": {},
   "source": [
    "### Note: response means that it gives probabilities"
   ]
  },
  {
   "cell_type": "code",
   "execution_count": 28,
   "metadata": {},
   "outputs": [
    {
     "data": {
      "text/html": [
       "<dl class=dl-horizontal>\n",
       "\t<dt>15680</dt>\n",
       "\t\t<dd>0.165369151936057</dd>\n",
       "\t<dt>3785</dt>\n",
       "\t\t<dd>0.217163078876774</dd>\n",
       "\t<dt>13401</dt>\n",
       "\t\t<dd>0.846305006643232</dd>\n",
       "\t<dt>23007</dt>\n",
       "\t\t<dd>0.131466540118738</dd>\n",
       "\t<dt>28474</dt>\n",
       "\t\t<dd>0.217344778947085</dd>\n",
       "\t<dt>22895</dt>\n",
       "\t\t<dd>0.117138786042684</dd>\n",
       "</dl>\n"
      ],
      "text/latex": [
       "\\begin{description*}\n",
       "\\item[15680] 0.165369151936057\n",
       "\\item[3785] 0.217163078876774\n",
       "\\item[13401] 0.846305006643232\n",
       "\\item[23007] 0.131466540118738\n",
       "\\item[28474] 0.217344778947085\n",
       "\\item[22895] 0.117138786042684\n",
       "\\end{description*}\n"
      ],
      "text/markdown": [
       "15680\n",
       ":   0.1653691519360573785\n",
       ":   0.21716307887677413401\n",
       ":   0.84630500664323223007\n",
       ":   0.13146654011873828474\n",
       ":   0.21734477894708522895\n",
       ":   0.117138786042684\n",
       "\n"
      ],
      "text/plain": [
       "    15680      3785     13401     23007     28474     22895 \n",
       "0.1653692 0.2171631 0.8463050 0.1314665 0.2173448 0.1171388 "
      ]
     },
     "metadata": {},
     "output_type": "display_data"
    },
    {
     "data": {
      "text/plain": [
       "\n",
       "    0     1 \n",
       "16355  4646 "
      ]
     },
     "metadata": {},
     "output_type": "display_data"
    }
   ],
   "source": [
    "head(predict_full_model) \n",
    "table(train.data$Default_Payment)\n",
    "predictions_full_model = ifelse(predict_full_model <= 0.5,0,1) \n"
   ]
  },
  {
   "cell_type": "code",
   "execution_count": 29,
   "metadata": {},
   "outputs": [
    {
     "name": "stderr",
     "output_type": "stream",
     "text": [
      "Warning message:\n",
      "\"package 'e1071' was built under R version 3.6.3\""
     ]
    }
   ],
   "source": [
    "library(caret) \n",
    "library(e1071)"
   ]
  },
  {
   "cell_type": "markdown",
   "metadata": {},
   "source": [
    "### Build the confusion matrix"
   ]
  },
  {
   "cell_type": "code",
   "execution_count": 30,
   "metadata": {},
   "outputs": [
    {
     "data": {
      "text/plain": [
       "         actual\n",
       "predicted    0    1\n",
       "        0 6675 1280\n",
       "        1  335  711"
      ]
     },
     "metadata": {},
     "output_type": "display_data"
    },
    {
     "data": {
      "text/plain": [
       "Confusion Matrix and Statistics\n",
       "\n",
       "          Reference\n",
       "Prediction    0    1\n",
       "         0 6675 1280\n",
       "         1  335  711\n",
       "                                          \n",
       "               Accuracy : 0.8206          \n",
       "                 95% CI : (0.8125, 0.8285)\n",
       "    No Information Rate : 0.7788          \n",
       "    P-Value [Acc > NIR] : < 2.2e-16       \n",
       "                                          \n",
       "                  Kappa : 0.3726          \n",
       "                                          \n",
       " Mcnemar's Test P-Value : < 2.2e-16       \n",
       "                                          \n",
       "            Sensitivity : 0.9522          \n",
       "            Specificity : 0.3571          \n",
       "         Pos Pred Value : 0.8391          \n",
       "         Neg Pred Value : 0.6797          \n",
       "             Prevalence : 0.7788          \n",
       "         Detection Rate : 0.7416          \n",
       "   Detection Prevalence : 0.8838          \n",
       "      Balanced Accuracy : 0.6547          \n",
       "                                          \n",
       "       'Positive' Class : 0               \n",
       "                                          "
      ]
     },
     "metadata": {},
     "output_type": "display_data"
    }
   ],
   "source": [
    "table(predicted = predictions_full_model,actual = test.data$Default_Payment) \n",
    "caret::confusionMatrix(as.factor(predictions_full_model),as.factor(test.data$Default_Payment))"
   ]
  },
  {
   "cell_type": "code",
   "execution_count": null,
   "metadata": {},
   "outputs": [],
   "source": []
  }
 ],
 "metadata": {
  "kernelspec": {
   "display_name": "R",
   "language": "R",
   "name": "ir"
  },
  "language_info": {
   "codemirror_mode": "r",
   "file_extension": ".r",
   "mimetype": "text/x-r-source",
   "name": "R",
   "pygments_lexer": "r",
   "version": "3.6.1"
  }
 },
 "nbformat": 4,
 "nbformat_minor": 4
}
